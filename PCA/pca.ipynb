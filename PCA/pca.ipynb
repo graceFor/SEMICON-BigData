{
  "nbformat": 4,
  "nbformat_minor": 5,
  "metadata": {
    "kernelspec": {
      "display_name": "Python 3",
      "language": "python",
      "name": "python3"
    },
    "language_info": {
      "codemirror_mode": {
        "name": "ipython",
        "version": 3
      },
      "file_extension": ".py",
      "mimetype": "text/x-python",
      "name": "python",
      "nbconvert_exporter": "python",
      "pygments_lexer": "ipython3",
      "version": "3.7.6"
    },
    "colab": {
      "name": "pca.ipynb",
      "provenance": [],
      "include_colab_link": true
    }
  },
  "cells": [
    {
      "cell_type": "markdown",
      "metadata": {
        "id": "view-in-github",
        "colab_type": "text"
      },
      "source": [
        "<a href=\"https://colab.research.google.com/github/graceFor/SEMICON-BigData/blob/main/PCA/pca.ipynb\" target=\"_parent\"><img src=\"https://colab.research.google.com/assets/colab-badge.svg\" alt=\"Open In Colab\"/></a>"
      ]
    },
    {
      "cell_type": "markdown",
      "metadata": {
        "id": "presidential-voice"
      },
      "source": [
        "### PCA"
      ],
      "id": "presidential-voice"
    },
    {
      "cell_type": "code",
      "metadata": {
        "id": "yellow-slope"
      },
      "source": [
        "# example of pca for dimensionality reduction\n",
        "from sklearn.datasets import make_classification\n",
        "from sklearn.decomposition import PCA"
      ],
      "id": "yellow-slope",
      "execution_count": 1,
      "outputs": []
    },
    {
      "cell_type": "code",
      "metadata": {
        "id": "north-brighton",
        "outputId": "c84d8b5f-2099-4c75-8602-b522a93225dd",
        "colab": {
          "base_uri": "https://localhost:8080/"
        }
      },
      "source": [
        "# define dataset =>컬럼 10개를 가진 1000개의 dataset\n",
        "X, y = make_classification(n_samples=1000, n_features=10, n_informative=3, n_redundant=7,\n",
        "random_state=1)\n",
        "\n",
        "# summarize data before the transform\n",
        "print(X[:3, :])"
      ],
      "id": "north-brighton",
      "execution_count": 2,
      "outputs": [
        {
          "output_type": "stream",
          "text": [
            "[[-0.53448246  0.93837451  0.38969914  0.0926655   1.70876508  1.14351305\n",
            "  -1.47034214  0.11857673 -2.72241741  0.2953565 ]\n",
            " [-2.42280473 -1.02658758 -2.34792156 -0.82422408  0.59933419 -2.44832253\n",
            "   0.39750207  2.0265065   1.83374105  0.72430365]\n",
            " [-1.83391794 -1.1946668  -0.73806871  1.50947233  1.78047734  0.58779205\n",
            "  -2.78506977 -0.04163788 -1.25227833  0.99373587]]\n"
          ],
          "name": "stdout"
        }
      ]
    },
    {
      "cell_type": "code",
      "metadata": {
        "id": "PZI6DD68-r2d",
        "outputId": "166fb1c5-f1f3-49bc-8946-5ccebb49cc8d",
        "colab": {
          "base_uri": "https://localhost:8080/"
        }
      },
      "source": [
        "X.shape"
      ],
      "id": "PZI6DD68-r2d",
      "execution_count": 13,
      "outputs": [
        {
          "output_type": "execute_result",
          "data": {
            "text/plain": [
              "(1000, 10)"
            ]
          },
          "metadata": {
            "tags": []
          },
          "execution_count": 13
        }
      ]
    },
    {
      "cell_type": "code",
      "metadata": {
        "id": "smooth-camera",
        "outputId": "3d919829-9115-40dd-9e36-c3c3613addfb",
        "colab": {
          "base_uri": "https://localhost:8080/"
        }
      },
      "source": [
        "# define the transform => 5차원으로 차원축소\n",
        "trans = PCA(n_components=5)\n",
        "\n",
        "# transform the data\n",
        "X_dim = trans.fit_transform(X)\n",
        "\n",
        "# summarize data after the transform\n",
        "print(X_dim[:3, :])"
      ],
      "id": "smooth-camera",
      "execution_count": 14,
      "outputs": [
        {
          "output_type": "stream",
          "text": [
            "[[-1.64710578e+00 -2.11683302e+00  1.98256096e+00  1.77145608e-15\n",
            "  -4.82771883e-16]\n",
            " [ 9.28402085e-01  4.82949970e+00  2.27270432e-01  6.55303000e-16\n",
            "   1.59490800e-15]\n",
            " [-3.83677757e+00  3.23007138e-01  1.15128013e-01  2.66643680e-15\n",
            "  -8.02718758e-16]]\n"
          ],
          "name": "stdout"
        }
      ]
    },
    {
      "cell_type": "code",
      "metadata": {
        "id": "DLHzB-Xf-1AO",
        "outputId": "00747164-1cf4-4d0b-afe3-5d82a089e72f",
        "colab": {
          "base_uri": "https://localhost:8080/"
        }
      },
      "source": [
        "X_dim.shape"
      ],
      "id": "DLHzB-Xf-1AO",
      "execution_count": 15,
      "outputs": [
        {
          "output_type": "execute_result",
          "data": {
            "text/plain": [
              "(1000, 5)"
            ]
          },
          "metadata": {
            "tags": []
          },
          "execution_count": 15
        }
      ]
    },
    {
      "cell_type": "code",
      "metadata": {
        "id": "6RabNQ3sE-1Y",
        "outputId": "6151c136-8f46-4609-f1ce-ea944d8d75b5",
        "colab": {
          "base_uri": "https://localhost:8080/"
        }
      },
      "source": [
        "print(X_dim)"
      ],
      "id": "6RabNQ3sE-1Y",
      "execution_count": 4,
      "outputs": [
        {
          "output_type": "stream",
          "text": [
            "[[-1.64710578e+00 -2.11683302e+00  1.98256096e+00 ... -2.28748705e-17\n",
            "  -3.34837882e-17 -9.27785821e-17]\n",
            " [ 9.28402085e-01  4.82949970e+00  2.27270432e-01 ...  1.02045970e-15\n",
            "   1.26734160e-16  3.24155226e-16]\n",
            " [-3.83677757e+00  3.23007138e-01  1.15128013e-01 ... -4.86354389e-17\n",
            "  -3.70265931e-18 -6.82838540e-17]\n",
            " ...\n",
            " [ 3.45579288e+00 -6.49130724e-01 -6.98465393e-01 ... -7.58767542e-17\n",
            "   4.08018081e-18  4.71479856e-17]\n",
            " [ 4.32915522e+00 -3.00906405e-01 -1.99348645e+00 ...  4.28901523e-17\n",
            "  -5.85537757e-17 -1.06112698e-16]\n",
            " [-2.49808012e+00 -1.87944823e+00  4.47071779e-03 ... -2.87858183e-17\n",
            "  -9.06400398e-17  5.51639430e-18]]\n"
          ],
          "name": "stdout"
        }
      ]
    },
    {
      "cell_type": "code",
      "metadata": {
        "id": "aLtrJh24H8o4"
      },
      "source": [
        "import pandas as pd"
      ],
      "id": "aLtrJh24H8o4",
      "execution_count": 5,
      "outputs": []
    },
    {
      "cell_type": "code",
      "metadata": {
        "id": "MwBQzgrj_WvV",
        "outputId": "8ba3ae0f-016d-4675-e55b-4db439fe2b45",
        "colab": {
          "base_uri": "https://localhost:8080/"
        }
      },
      "source": [
        "type(X_dim)"
      ],
      "id": "MwBQzgrj_WvV",
      "execution_count": 16,
      "outputs": [
        {
          "output_type": "execute_result",
          "data": {
            "text/plain": [
              "numpy.ndarray"
            ]
          },
          "metadata": {
            "tags": []
          },
          "execution_count": 16
        }
      ]
    },
    {
      "cell_type": "code",
      "metadata": {
        "id": "609oENpdH0-D"
      },
      "source": [
        "df_X = pd.DataFrame(X_dim)"
      ],
      "id": "609oENpdH0-D",
      "execution_count": 18,
      "outputs": []
    },
    {
      "cell_type": "code",
      "metadata": {
        "id": "me4pSp5y_Wx4",
        "outputId": "93564602-19ff-4247-8d34-4b6155c87333",
        "colab": {
          "base_uri": "https://localhost:8080/",
          "height": 204
        }
      },
      "source": [
        "df_X.corr(method='pearson').round()"
      ],
      "id": "me4pSp5y_Wx4",
      "execution_count": 20,
      "outputs": [
        {
          "output_type": "execute_result",
          "data": {
            "text/html": [
              "<div>\n",
              "<style scoped>\n",
              "    .dataframe tbody tr th:only-of-type {\n",
              "        vertical-align: middle;\n",
              "    }\n",
              "\n",
              "    .dataframe tbody tr th {\n",
              "        vertical-align: top;\n",
              "    }\n",
              "\n",
              "    .dataframe thead th {\n",
              "        text-align: right;\n",
              "    }\n",
              "</style>\n",
              "<table border=\"1\" class=\"dataframe\">\n",
              "  <thead>\n",
              "    <tr style=\"text-align: right;\">\n",
              "      <th></th>\n",
              "      <th>0</th>\n",
              "      <th>1</th>\n",
              "      <th>2</th>\n",
              "      <th>3</th>\n",
              "      <th>4</th>\n",
              "    </tr>\n",
              "  </thead>\n",
              "  <tbody>\n",
              "    <tr>\n",
              "      <th>0</th>\n",
              "      <td>1.0</td>\n",
              "      <td>0.0</td>\n",
              "      <td>0.0</td>\n",
              "      <td>0.0</td>\n",
              "      <td>-0.0</td>\n",
              "    </tr>\n",
              "    <tr>\n",
              "      <th>1</th>\n",
              "      <td>0.0</td>\n",
              "      <td>1.0</td>\n",
              "      <td>-0.0</td>\n",
              "      <td>0.0</td>\n",
              "      <td>0.0</td>\n",
              "    </tr>\n",
              "    <tr>\n",
              "      <th>2</th>\n",
              "      <td>0.0</td>\n",
              "      <td>-0.0</td>\n",
              "      <td>1.0</td>\n",
              "      <td>-0.0</td>\n",
              "      <td>-0.0</td>\n",
              "    </tr>\n",
              "    <tr>\n",
              "      <th>3</th>\n",
              "      <td>0.0</td>\n",
              "      <td>0.0</td>\n",
              "      <td>-0.0</td>\n",
              "      <td>1.0</td>\n",
              "      <td>0.0</td>\n",
              "    </tr>\n",
              "    <tr>\n",
              "      <th>4</th>\n",
              "      <td>-0.0</td>\n",
              "      <td>0.0</td>\n",
              "      <td>-0.0</td>\n",
              "      <td>0.0</td>\n",
              "      <td>1.0</td>\n",
              "    </tr>\n",
              "  </tbody>\n",
              "</table>\n",
              "</div>"
            ],
            "text/plain": [
              "     0    1    2    3    4\n",
              "0  1.0  0.0  0.0  0.0 -0.0\n",
              "1  0.0  1.0 -0.0  0.0  0.0\n",
              "2  0.0 -0.0  1.0 -0.0 -0.0\n",
              "3  0.0  0.0 -0.0  1.0  0.0\n",
              "4 -0.0  0.0 -0.0  0.0  1.0"
            ]
          },
          "metadata": {
            "tags": []
          },
          "execution_count": 20
        }
      ]
    },
    {
      "cell_type": "code",
      "metadata": {
        "id": "nc5HBpo-IA9D",
        "outputId": "73ba1291-f7b4-4309-c470-a97d2bbea21e",
        "colab": {
          "base_uri": "https://localhost:8080/",
          "height": 297
        }
      },
      "source": [
        "df_X.describe().round()"
      ],
      "id": "nc5HBpo-IA9D",
      "execution_count": 7,
      "outputs": [
        {
          "output_type": "execute_result",
          "data": {
            "text/html": [
              "<div>\n",
              "<style scoped>\n",
              "    .dataframe tbody tr th:only-of-type {\n",
              "        vertical-align: middle;\n",
              "    }\n",
              "\n",
              "    .dataframe tbody tr th {\n",
              "        vertical-align: top;\n",
              "    }\n",
              "\n",
              "    .dataframe thead th {\n",
              "        text-align: right;\n",
              "    }\n",
              "</style>\n",
              "<table border=\"1\" class=\"dataframe\">\n",
              "  <thead>\n",
              "    <tr style=\"text-align: right;\">\n",
              "      <th></th>\n",
              "      <th>0</th>\n",
              "      <th>1</th>\n",
              "      <th>2</th>\n",
              "      <th>3</th>\n",
              "      <th>4</th>\n",
              "      <th>5</th>\n",
              "      <th>6</th>\n",
              "      <th>7</th>\n",
              "      <th>8</th>\n",
              "      <th>9</th>\n",
              "    </tr>\n",
              "  </thead>\n",
              "  <tbody>\n",
              "    <tr>\n",
              "      <th>count</th>\n",
              "      <td>1000.0</td>\n",
              "      <td>1000.0</td>\n",
              "      <td>1000.0</td>\n",
              "      <td>1000.0</td>\n",
              "      <td>1000.0</td>\n",
              "      <td>1000.0</td>\n",
              "      <td>1000.0</td>\n",
              "      <td>1000.0</td>\n",
              "      <td>1000.0</td>\n",
              "      <td>1000.0</td>\n",
              "    </tr>\n",
              "    <tr>\n",
              "      <th>mean</th>\n",
              "      <td>0.0</td>\n",
              "      <td>0.0</td>\n",
              "      <td>-0.0</td>\n",
              "      <td>0.0</td>\n",
              "      <td>-0.0</td>\n",
              "      <td>0.0</td>\n",
              "      <td>-0.0</td>\n",
              "      <td>-0.0</td>\n",
              "      <td>-0.0</td>\n",
              "      <td>0.0</td>\n",
              "    </tr>\n",
              "    <tr>\n",
              "      <th>std</th>\n",
              "      <td>3.0</td>\n",
              "      <td>3.0</td>\n",
              "      <td>2.0</td>\n",
              "      <td>0.0</td>\n",
              "      <td>0.0</td>\n",
              "      <td>0.0</td>\n",
              "      <td>0.0</td>\n",
              "      <td>0.0</td>\n",
              "      <td>0.0</td>\n",
              "      <td>0.0</td>\n",
              "    </tr>\n",
              "    <tr>\n",
              "      <th>min</th>\n",
              "      <td>-7.0</td>\n",
              "      <td>-8.0</td>\n",
              "      <td>-5.0</td>\n",
              "      <td>-0.0</td>\n",
              "      <td>-0.0</td>\n",
              "      <td>-0.0</td>\n",
              "      <td>-0.0</td>\n",
              "      <td>-0.0</td>\n",
              "      <td>-0.0</td>\n",
              "      <td>-0.0</td>\n",
              "    </tr>\n",
              "    <tr>\n",
              "      <th>25%</th>\n",
              "      <td>-2.0</td>\n",
              "      <td>-2.0</td>\n",
              "      <td>-1.0</td>\n",
              "      <td>0.0</td>\n",
              "      <td>-0.0</td>\n",
              "      <td>0.0</td>\n",
              "      <td>-0.0</td>\n",
              "      <td>-0.0</td>\n",
              "      <td>-0.0</td>\n",
              "      <td>-0.0</td>\n",
              "    </tr>\n",
              "    <tr>\n",
              "      <th>50%</th>\n",
              "      <td>-1.0</td>\n",
              "      <td>-0.0</td>\n",
              "      <td>0.0</td>\n",
              "      <td>0.0</td>\n",
              "      <td>-0.0</td>\n",
              "      <td>0.0</td>\n",
              "      <td>-0.0</td>\n",
              "      <td>-0.0</td>\n",
              "      <td>-0.0</td>\n",
              "      <td>0.0</td>\n",
              "    </tr>\n",
              "    <tr>\n",
              "      <th>75%</th>\n",
              "      <td>2.0</td>\n",
              "      <td>2.0</td>\n",
              "      <td>1.0</td>\n",
              "      <td>0.0</td>\n",
              "      <td>-0.0</td>\n",
              "      <td>0.0</td>\n",
              "      <td>0.0</td>\n",
              "      <td>0.0</td>\n",
              "      <td>0.0</td>\n",
              "      <td>0.0</td>\n",
              "    </tr>\n",
              "    <tr>\n",
              "      <th>max</th>\n",
              "      <td>8.0</td>\n",
              "      <td>10.0</td>\n",
              "      <td>5.0</td>\n",
              "      <td>0.0</td>\n",
              "      <td>0.0</td>\n",
              "      <td>0.0</td>\n",
              "      <td>0.0</td>\n",
              "      <td>0.0</td>\n",
              "      <td>0.0</td>\n",
              "      <td>0.0</td>\n",
              "    </tr>\n",
              "  </tbody>\n",
              "</table>\n",
              "</div>"
            ],
            "text/plain": [
              "            0       1       2       3  ...       6       7       8       9\n",
              "count  1000.0  1000.0  1000.0  1000.0  ...  1000.0  1000.0  1000.0  1000.0\n",
              "mean      0.0     0.0    -0.0     0.0  ...    -0.0    -0.0    -0.0     0.0\n",
              "std       3.0     3.0     2.0     0.0  ...     0.0     0.0     0.0     0.0\n",
              "min      -7.0    -8.0    -5.0    -0.0  ...    -0.0    -0.0    -0.0    -0.0\n",
              "25%      -2.0    -2.0    -1.0     0.0  ...    -0.0    -0.0    -0.0    -0.0\n",
              "50%      -1.0    -0.0     0.0     0.0  ...    -0.0    -0.0    -0.0     0.0\n",
              "75%       2.0     2.0     1.0     0.0  ...     0.0     0.0     0.0     0.0\n",
              "max       8.0    10.0     5.0     0.0  ...     0.0     0.0     0.0     0.0\n",
              "\n",
              "[8 rows x 10 columns]"
            ]
          },
          "metadata": {
            "tags": []
          },
          "execution_count": 7
        }
      ]
    },
    {
      "cell_type": "code",
      "metadata": {
        "id": "fSOQlMVZIQbN"
      },
      "source": [
        "df_X_org = pd.DataFrame(X)"
      ],
      "id": "fSOQlMVZIQbN",
      "execution_count": 8,
      "outputs": []
    },
    {
      "cell_type": "code",
      "metadata": {
        "id": "O4Rgu-8vIWB-",
        "outputId": "48429ae5-85c7-4888-de43-ed5e5d88ccca",
        "colab": {
          "base_uri": "https://localhost:8080/",
          "height": 297
        }
      },
      "source": [
        "df_X_org.describe().round()"
      ],
      "id": "O4Rgu-8vIWB-",
      "execution_count": 9,
      "outputs": [
        {
          "output_type": "execute_result",
          "data": {
            "text/html": [
              "<div>\n",
              "<style scoped>\n",
              "    .dataframe tbody tr th:only-of-type {\n",
              "        vertical-align: middle;\n",
              "    }\n",
              "\n",
              "    .dataframe tbody tr th {\n",
              "        vertical-align: top;\n",
              "    }\n",
              "\n",
              "    .dataframe thead th {\n",
              "        text-align: right;\n",
              "    }\n",
              "</style>\n",
              "<table border=\"1\" class=\"dataframe\">\n",
              "  <thead>\n",
              "    <tr style=\"text-align: right;\">\n",
              "      <th></th>\n",
              "      <th>0</th>\n",
              "      <th>1</th>\n",
              "      <th>2</th>\n",
              "      <th>3</th>\n",
              "      <th>4</th>\n",
              "      <th>5</th>\n",
              "      <th>6</th>\n",
              "      <th>7</th>\n",
              "      <th>8</th>\n",
              "      <th>9</th>\n",
              "    </tr>\n",
              "  </thead>\n",
              "  <tbody>\n",
              "    <tr>\n",
              "      <th>count</th>\n",
              "      <td>1000.0</td>\n",
              "      <td>1000.0</td>\n",
              "      <td>1000.0</td>\n",
              "      <td>1000.0</td>\n",
              "      <td>1000.0</td>\n",
              "      <td>1000.0</td>\n",
              "      <td>1000.0</td>\n",
              "      <td>1000.0</td>\n",
              "      <td>1000.0</td>\n",
              "      <td>1000.0</td>\n",
              "    </tr>\n",
              "    <tr>\n",
              "      <th>mean</th>\n",
              "      <td>-1.0</td>\n",
              "      <td>-0.0</td>\n",
              "      <td>-0.0</td>\n",
              "      <td>0.0</td>\n",
              "      <td>0.0</td>\n",
              "      <td>-0.0</td>\n",
              "      <td>-0.0</td>\n",
              "      <td>0.0</td>\n",
              "      <td>-0.0</td>\n",
              "      <td>0.0</td>\n",
              "    </tr>\n",
              "    <tr>\n",
              "      <th>std</th>\n",
              "      <td>2.0</td>\n",
              "      <td>1.0</td>\n",
              "      <td>1.0</td>\n",
              "      <td>1.0</td>\n",
              "      <td>1.0</td>\n",
              "      <td>1.0</td>\n",
              "      <td>2.0</td>\n",
              "      <td>1.0</td>\n",
              "      <td>2.0</td>\n",
              "      <td>1.0</td>\n",
              "    </tr>\n",
              "    <tr>\n",
              "      <th>min</th>\n",
              "      <td>-5.0</td>\n",
              "      <td>-3.0</td>\n",
              "      <td>-5.0</td>\n",
              "      <td>-4.0</td>\n",
              "      <td>-3.0</td>\n",
              "      <td>-5.0</td>\n",
              "      <td>-5.0</td>\n",
              "      <td>-3.0</td>\n",
              "      <td>-5.0</td>\n",
              "      <td>-2.0</td>\n",
              "    </tr>\n",
              "    <tr>\n",
              "      <th>25%</th>\n",
              "      <td>-2.0</td>\n",
              "      <td>-1.0</td>\n",
              "      <td>-1.0</td>\n",
              "      <td>-1.0</td>\n",
              "      <td>-0.0</td>\n",
              "      <td>-1.0</td>\n",
              "      <td>-2.0</td>\n",
              "      <td>-0.0</td>\n",
              "      <td>-2.0</td>\n",
              "      <td>-0.0</td>\n",
              "    </tr>\n",
              "    <tr>\n",
              "      <th>50%</th>\n",
              "      <td>-1.0</td>\n",
              "      <td>-0.0</td>\n",
              "      <td>-0.0</td>\n",
              "      <td>0.0</td>\n",
              "      <td>1.0</td>\n",
              "      <td>-0.0</td>\n",
              "      <td>-1.0</td>\n",
              "      <td>0.0</td>\n",
              "      <td>-0.0</td>\n",
              "      <td>0.0</td>\n",
              "    </tr>\n",
              "    <tr>\n",
              "      <th>75%</th>\n",
              "      <td>1.0</td>\n",
              "      <td>1.0</td>\n",
              "      <td>1.0</td>\n",
              "      <td>1.0</td>\n",
              "      <td>1.0</td>\n",
              "      <td>1.0</td>\n",
              "      <td>1.0</td>\n",
              "      <td>1.0</td>\n",
              "      <td>1.0</td>\n",
              "      <td>1.0</td>\n",
              "    </tr>\n",
              "    <tr>\n",
              "      <th>max</th>\n",
              "      <td>4.0</td>\n",
              "      <td>4.0</td>\n",
              "      <td>3.0</td>\n",
              "      <td>3.0</td>\n",
              "      <td>4.0</td>\n",
              "      <td>5.0</td>\n",
              "      <td>5.0</td>\n",
              "      <td>4.0</td>\n",
              "      <td>4.0</td>\n",
              "      <td>2.0</td>\n",
              "    </tr>\n",
              "  </tbody>\n",
              "</table>\n",
              "</div>"
            ],
            "text/plain": [
              "            0       1       2       3  ...       6       7       8       9\n",
              "count  1000.0  1000.0  1000.0  1000.0  ...  1000.0  1000.0  1000.0  1000.0\n",
              "mean     -1.0    -0.0    -0.0     0.0  ...    -0.0     0.0    -0.0     0.0\n",
              "std       2.0     1.0     1.0     1.0  ...     2.0     1.0     2.0     1.0\n",
              "min      -5.0    -3.0    -5.0    -4.0  ...    -5.0    -3.0    -5.0    -2.0\n",
              "25%      -2.0    -1.0    -1.0    -1.0  ...    -2.0    -0.0    -2.0    -0.0\n",
              "50%      -1.0    -0.0    -0.0     0.0  ...    -1.0     0.0    -0.0     0.0\n",
              "75%       1.0     1.0     1.0     1.0  ...     1.0     1.0     1.0     1.0\n",
              "max       4.0     4.0     3.0     3.0  ...     5.0     4.0     4.0     2.0\n",
              "\n",
              "[8 rows x 10 columns]"
            ]
          },
          "metadata": {
            "tags": []
          },
          "execution_count": 9
        }
      ]
    },
    {
      "cell_type": "code",
      "metadata": {
        "id": "informational-tattoo",
        "outputId": "0a689088-fd1a-4cd3-a9e1-307b05afb1d2",
        "colab": {
          "base_uri": "https://localhost:8080/"
        }
      },
      "source": [
        "X_dim.shape"
      ],
      "id": "informational-tattoo",
      "execution_count": 10,
      "outputs": [
        {
          "output_type": "execute_result",
          "data": {
            "text/plain": [
              "(1000, 10)"
            ]
          },
          "metadata": {
            "tags": []
          },
          "execution_count": 10
        }
      ]
    },
    {
      "cell_type": "code",
      "metadata": {
        "id": "fossil-piece",
        "outputId": "c849f06d-0c2c-406f-b300-49f244cd8d99",
        "colab": {
          "base_uri": "https://localhost:8080/"
        }
      },
      "source": [
        "print(\"\\nFirstprincipal axis :\", trans.components_[0])\n",
        "\n",
        "print(\"Second principal axis\", trans.components_[1])\n",
        "\n",
        "print(\"Third principal axis\", trans.components_[2])"
      ],
      "id": "fossil-piece",
      "execution_count": 11,
      "outputs": [
        {
          "output_type": "stream",
          "text": [
            "\n",
            "Firstprincipal axis : [ 0.30139367  0.2906802   0.08446786 -0.40630879 -0.31791676 -0.20643607\n",
            "  0.62622795  0.11716757  0.25669845 -0.1922876 ]\n",
            "Second principal axis [-0.44347297 -0.28087938 -0.44465307 -0.07863887  0.06367704 -0.45409896\n",
            "  0.04338621  0.32572588  0.42657205  0.14259741]\n",
            "Third principal axis [-0.23696749  0.4344179  -0.07607847 -0.38501528  0.41756942 -0.05364617\n",
            "  0.02642631  0.37397604 -0.53091964  0.03779641]\n"
          ],
          "name": "stdout"
        }
      ]
    },
    {
      "cell_type": "code",
      "metadata": {
        "id": "gjGCsvCUGcj8",
        "outputId": "1acdc4fc-dbaa-49bd-cd40-21a87a4e0154",
        "colab": {
          "base_uri": "https://localhost:8080/"
        }
      },
      "source": [
        "print(trans.explained_variance_ratio_)"
      ],
      "id": "gjGCsvCUGcj8",
      "execution_count": 12,
      "outputs": [
        {
          "output_type": "stream",
          "text": [
            "[4.85352415e-01 3.83707404e-01 1.30940181e-01 6.79755334e-32\n",
            " 2.56524695e-32 1.10356260e-32 1.82008286e-33 8.72767404e-34\n",
            " 6.76199847e-34 2.85870636e-34]\n"
          ],
          "name": "stdout"
        }
      ]
    }
  ]
}