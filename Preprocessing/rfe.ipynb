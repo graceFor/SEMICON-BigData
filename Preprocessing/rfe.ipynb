{
  "nbformat": 4,
  "nbformat_minor": 5,
  "metadata": {
    "kernelspec": {
      "display_name": "Python 3",
      "language": "python",
      "name": "python3"
    },
    "language_info": {
      "codemirror_mode": {
        "name": "ipython",
        "version": 3
      },
      "file_extension": ".py",
      "mimetype": "text/x-python",
      "name": "python",
      "nbconvert_exporter": "python",
      "pygments_lexer": "ipython3",
      "version": "3.7.6"
    },
    "colab": {
      "name": "rfe.ipynb",
      "provenance": [],
      "include_colab_link": true
    }
  },
  "cells": [
    {
      "cell_type": "markdown",
      "metadata": {
        "id": "view-in-github",
        "colab_type": "text"
      },
      "source": [
        "<a href=\"https://colab.research.google.com/github/graceFor/SEMICON-BigData/blob/main/Preprocessing/rfe.ipynb\" target=\"_parent\"><img src=\"https://colab.research.google.com/assets/colab-badge.svg\" alt=\"Open In Colab\"/></a>"
      ]
    },
    {
      "cell_type": "markdown",
      "metadata": {
        "id": "awful-boutique"
      },
      "source": [
        "### Recursive Feature Elimination(RFE) - catagorical variable - feature 선택하기"
      ],
      "id": "awful-boutique"
    },
    {
      "cell_type": "code",
      "metadata": {
        "id": "detailed-fifteen"
      },
      "source": [
        "# report which features were selected by RFE\n",
        "\n",
        "from sklearn.datasets import make_classification\n",
        "from sklearn.feature_selection import RFE\n",
        "from sklearn.tree import DecisionTreeClassifier"
      ],
      "id": "detailed-fifteen",
      "execution_count": 1,
      "outputs": []
    },
    {
      "cell_type": "code",
      "metadata": {
        "id": "running-fight"
      },
      "source": [
        "# define dataset\n",
        "X, y = make_classification(n_samples=1000, n_features=10, n_informative=5, n_redundant=5,\n",
        "random_state=1)"
      ],
      "id": "running-fight",
      "execution_count": 10,
      "outputs": []
    },
    {
      "cell_type": "code",
      "metadata": {
        "colab": {
          "base_uri": "https://localhost:8080/"
        },
        "id": "quality-modern",
        "outputId": "c4c2fe1e-ca7b-473b-a1c2-ee405d8a911a"
      },
      "source": [
        "X.shape"
      ],
      "id": "quality-modern",
      "execution_count": 11,
      "outputs": [
        {
          "output_type": "execute_result",
          "data": {
            "text/plain": [
              "(1000, 10)"
            ]
          },
          "metadata": {
            "tags": []
          },
          "execution_count": 11
        }
      ]
    },
    {
      "cell_type": "code",
      "metadata": {
        "colab": {
          "base_uri": "https://localhost:8080/"
        },
        "id": "coordinate-demographic",
        "outputId": "1364bb37-4caa-4f72-eaea-c359dd5c36f7"
      },
      "source": [
        "y.shape"
      ],
      "id": "coordinate-demographic",
      "execution_count": 12,
      "outputs": [
        {
          "output_type": "execute_result",
          "data": {
            "text/plain": [
              "(1000,)"
            ]
          },
          "metadata": {
            "tags": []
          },
          "execution_count": 12
        }
      ]
    },
    {
      "cell_type": "code",
      "metadata": {
        "id": "q8xnji-AdAP1",
        "outputId": "5e34f6d7-8640-4751-90e1-b8693aff0dff",
        "colab": {
          "base_uri": "https://localhost:8080/"
        }
      },
      "source": [
        "X[3:0]"
      ],
      "id": "q8xnji-AdAP1",
      "execution_count": 13,
      "outputs": [
        {
          "output_type": "execute_result",
          "data": {
            "text/plain": [
              "array([], shape=(0, 10), dtype=float64)"
            ]
          },
          "metadata": {
            "tags": []
          },
          "execution_count": 13
        }
      ]
    },
    {
      "cell_type": "code",
      "metadata": {
        "id": "j7BMGHtudAXf",
        "outputId": "cc5788ac-2920-40d2-b4d1-b9091fb36839",
        "colab": {
          "base_uri": "https://localhost:8080/"
        }
      },
      "source": [
        "y[3:0]"
      ],
      "id": "j7BMGHtudAXf",
      "execution_count": 14,
      "outputs": [
        {
          "output_type": "execute_result",
          "data": {
            "text/plain": [
              "array([], dtype=int64)"
            ]
          },
          "metadata": {
            "tags": []
          },
          "execution_count": 14
        }
      ]
    },
    {
      "cell_type": "code",
      "metadata": {
        "colab": {
          "base_uri": "https://localhost:8080/"
        },
        "id": "liked-grocery",
        "outputId": "974f1e0a-4a8a-4e96-da9c-959d26ea8a27"
      },
      "source": [
        "# define RFE\n",
        "rfe = RFE(estimator=DecisionTreeClassifier(), n_features_to_select=5)\n",
        "\n",
        "# fit RFE\n",
        "rfe.fit(X, y)"
      ],
      "id": "liked-grocery",
      "execution_count": 15,
      "outputs": [
        {
          "output_type": "execute_result",
          "data": {
            "text/plain": [
              "RFE(estimator=DecisionTreeClassifier(ccp_alpha=0.0, class_weight=None,\n",
              "                                     criterion='gini', max_depth=None,\n",
              "                                     max_features=None, max_leaf_nodes=None,\n",
              "                                     min_impurity_decrease=0.0,\n",
              "                                     min_impurity_split=None,\n",
              "                                     min_samples_leaf=1, min_samples_split=2,\n",
              "                                     min_weight_fraction_leaf=0.0,\n",
              "                                     presort='deprecated', random_state=None,\n",
              "                                     splitter='best'),\n",
              "    n_features_to_select=5, step=1, verbose=0)"
            ]
          },
          "metadata": {
            "tags": []
          },
          "execution_count": 15
        }
      ]
    },
    {
      "cell_type": "code",
      "metadata": {
        "colab": {
          "base_uri": "https://localhost:8080/"
        },
        "id": "radio-summit",
        "outputId": "1fb25631-7e05-4252-8e69-f4ae75c9a1c9"
      },
      "source": [
        "X.shape"
      ],
      "id": "radio-summit",
      "execution_count": 16,
      "outputs": [
        {
          "output_type": "execute_result",
          "data": {
            "text/plain": [
              "(1000, 10)"
            ]
          },
          "metadata": {
            "tags": []
          },
          "execution_count": 16
        }
      ]
    },
    {
      "cell_type": "code",
      "metadata": {
        "colab": {
          "base_uri": "https://localhost:8080/"
        },
        "id": "union-equilibrium",
        "outputId": "853ddfb9-144d-4f72-b409-1dd4b90917e8"
      },
      "source": [
        "# summarize all features\n",
        "for i in range(X.shape[1]):\n",
        "  print('Column: %d, Selected=%s, Rank: %d' % (i, rfe.support_[i], rfe.ranking_[i]))"
      ],
      "id": "union-equilibrium",
      "execution_count": 17,
      "outputs": [
        {
          "output_type": "stream",
          "text": [
            "Column: 0, Selected=False, Rank: 6\n",
            "Column: 1, Selected=False, Rank: 4\n",
            "Column: 2, Selected=True, Rank: 1\n",
            "Column: 3, Selected=True, Rank: 1\n",
            "Column: 4, Selected=True, Rank: 1\n",
            "Column: 5, Selected=False, Rank: 5\n",
            "Column: 6, Selected=True, Rank: 1\n",
            "Column: 7, Selected=False, Rank: 2\n",
            "Column: 8, Selected=True, Rank: 1\n",
            "Column: 9, Selected=False, Rank: 3\n"
          ],
          "name": "stdout"
        }
      ]
    }
  ]
}