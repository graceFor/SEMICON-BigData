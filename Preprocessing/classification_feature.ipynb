{
  "nbformat": 4,
  "nbformat_minor": 5,
  "metadata": {
    "kernelspec": {
      "display_name": "Python 3",
      "language": "python",
      "name": "python3"
    },
    "language_info": {
      "codemirror_mode": {
        "name": "ipython",
        "version": 3
      },
      "file_extension": ".py",
      "mimetype": "text/x-python",
      "name": "python",
      "nbconvert_exporter": "python",
      "pygments_lexer": "ipython3",
      "version": "3.7.6"
    },
    "colab": {
      "name": "classification_feature.ipynb",
      "provenance": [],
      "include_colab_link": true
    }
  },
  "cells": [
    {
      "cell_type": "markdown",
      "metadata": {
        "id": "view-in-github",
        "colab_type": "text"
      },
      "source": [
        "<a href=\"https://colab.research.google.com/github/graceFor/SEMICON-BigData/blob/main/Preprocessing/classification_feature.ipynb\" target=\"_parent\"><img src=\"https://colab.research.google.com/assets/colab-badge.svg\" alt=\"Open In Colab\"/></a>"
      ]
    },
    {
      "cell_type": "markdown",
      "metadata": {
        "id": "basic-nature"
      },
      "source": [
        "### Classification Feature Selection:\n",
        "(Numerical Input, Categorical Output)"
      ],
      "id": "basic-nature"
    },
    {
      "cell_type": "markdown",
      "metadata": {
        "id": "recorded-gregory"
      },
      "source": [
        "Feature selection is performed using ANOVA F measure via the f_classif() function."
      ],
      "id": "recorded-gregory"
    },
    {
      "cell_type": "code",
      "metadata": {
        "id": "chemical-minute"
      },
      "source": [
        "#@title 기본 제목 텍스트\n",
        "# ANOVA feature selection for numeric input and categorical output\n",
        "from sklearn.datasets import make_classification\n",
        "from sklearn.feature_selection import SelectKBest\n",
        "from sklearn.feature_selection import f_classif\n"
      ],
      "id": "chemical-minute",
      "execution_count": 1,
      "outputs": []
    },
    {
      "cell_type": "code",
      "metadata": {
        "id": "t_z26i8-YQ4N"
      },
      "source": [
        "# generate dataset\n",
        "X, y = make_classification(n_samples=100, n_features=20, n_informative=2)"
      ],
      "id": "t_z26i8-YQ4N",
      "execution_count": 3,
      "outputs": []
    },
    {
      "cell_type": "code",
      "metadata": {
        "id": "yvZV4I6vO6Jj",
        "outputId": "c792ddec-bbf9-477f-c73c-e5b5ef79a7a7",
        "colab": {
          "base_uri": "https://localhost:8080/"
        }
      },
      "source": [
        "X.shape"
      ],
      "id": "yvZV4I6vO6Jj",
      "execution_count": 5,
      "outputs": [
        {
          "output_type": "execute_result",
          "data": {
            "text/plain": [
              "(100, 20)"
            ]
          },
          "metadata": {
            "tags": []
          },
          "execution_count": 5
        }
      ]
    },
    {
      "cell_type": "code",
      "metadata": {
        "id": "GyTW65o-PUtH",
        "outputId": "12162731-086c-4f9c-f377-e5781c4d21e3",
        "colab": {
          "base_uri": "https://localhost:8080/"
        }
      },
      "source": [
        "X"
      ],
      "id": "GyTW65o-PUtH",
      "execution_count": 11,
      "outputs": [
        {
          "output_type": "execute_result",
          "data": {
            "text/plain": [
              "array([[ 0.14043566, -1.13603856, -0.74482425, ..., -1.35866078,\n",
              "        -1.14399008,  0.676229  ],\n",
              "       [ 0.63496031,  1.3022796 ,  0.90949875, ...,  0.32921443,\n",
              "        -1.01455916,  0.30116844],\n",
              "       [-0.19191981, -0.33474733,  0.88493849, ...,  0.38293093,\n",
              "         0.59588304, -0.36989229],\n",
              "       ...,\n",
              "       [-0.59441041, -0.66111368,  1.14689408, ..., -1.15550567,\n",
              "         0.42423504, -0.2737606 ],\n",
              "       [ 1.66956143,  0.66654873, -0.25158038, ...,  1.4759706 ,\n",
              "        -0.63226385, -0.74867485],\n",
              "       [ 0.33819148, -0.56771364,  1.62973401, ..., -0.52131887,\n",
              "         2.76674298, -0.03881846]])"
            ]
          },
          "metadata": {
            "tags": []
          },
          "execution_count": 11
        }
      ]
    },
    {
      "cell_type": "code",
      "metadata": {
        "id": "puh6PiZ3PMG5",
        "outputId": "6d172eff-e3f2-424a-c5cf-aafba88e6e80",
        "colab": {
          "base_uri": "https://localhost:8080/"
        }
      },
      "source": [
        "y.shape"
      ],
      "id": "puh6PiZ3PMG5",
      "execution_count": 6,
      "outputs": [
        {
          "output_type": "execute_result",
          "data": {
            "text/plain": [
              "(100,)"
            ]
          },
          "metadata": {
            "tags": []
          },
          "execution_count": 6
        }
      ]
    },
    {
      "cell_type": "code",
      "metadata": {
        "id": "jD8mhrqrPY8j",
        "outputId": "56d0b328-ebad-443b-fd19-58a909c509c2",
        "colab": {
          "base_uri": "https://localhost:8080/"
        }
      },
      "source": [
        "y"
      ],
      "id": "jD8mhrqrPY8j",
      "execution_count": 12,
      "outputs": [
        {
          "output_type": "execute_result",
          "data": {
            "text/plain": [
              "array([1, 1, 1, 1, 0, 1, 1, 0, 1, 0, 1, 1, 1, 0, 1, 1, 1, 0, 0, 0, 0, 0,\n",
              "       1, 0, 0, 1, 0, 0, 1, 1, 1, 0, 1, 0, 1, 1, 0, 0, 1, 0, 0, 0, 1, 1,\n",
              "       0, 1, 0, 1, 1, 1, 0, 1, 0, 0, 0, 0, 1, 1, 1, 0, 1, 0, 1, 0, 0, 0,\n",
              "       0, 0, 0, 0, 1, 0, 1, 1, 0, 0, 1, 0, 1, 0, 1, 1, 0, 1, 0, 1, 0, 1,\n",
              "       1, 0, 1, 1, 1, 0, 0, 0, 1, 0, 1, 0])"
            ]
          },
          "metadata": {
            "tags": []
          },
          "execution_count": 12
        }
      ]
    },
    {
      "cell_type": "code",
      "metadata": {
        "id": "DfV_qa3JO6PI"
      },
      "source": [
        "# define feature selection\n",
        "fs = SelectKBest(score_func=f_classif, k=2)"
      ],
      "id": "DfV_qa3JO6PI",
      "execution_count": 7,
      "outputs": []
    },
    {
      "cell_type": "code",
      "metadata": {
        "id": "hi0_q5o1O6Um",
        "outputId": "43071a5c-a38c-49ac-ee48-b67f7dda8cde",
        "colab": {
          "base_uri": "https://localhost:8080/"
        }
      },
      "source": [
        "# apply feature selection\n",
        "X_selected = fs.fit_transform(X, y)\n",
        "print(X_selected.shape)"
      ],
      "id": "hi0_q5o1O6Um",
      "execution_count": 8,
      "outputs": [
        {
          "output_type": "stream",
          "text": [
            "(100, 2)\n"
          ],
          "name": "stdout"
        }
      ]
    },
    {
      "cell_type": "code",
      "metadata": {
        "id": "angry-angola"
      },
      "source": [
        ""
      ],
      "id": "angry-angola",
      "execution_count": null,
      "outputs": []
    }
  ]
}