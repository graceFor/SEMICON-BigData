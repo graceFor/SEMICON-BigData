{
 "cells": [
  {
   "cell_type": "code",
   "execution_count": 4,
   "id": "347cf2c9",
   "metadata": {},
   "outputs": [],
   "source": [
    "# 데이터 구조 형성\n",
    "import pandas as pd\n",
    "import numpy as np\n",
    "\n",
    "# 데이터 시각화\n",
    "import matplotlib.pyplot as plt\n",
    "import matplotlib as mpl\n",
    "\n",
    "# 데이터 분할(train, test)\n",
    "from sklearn.model_selection import train_test_split\n",
    "\n",
    "# 회귀분석\n",
    "import statsmodels.formula.api as smf\n",
    "# DecisionTree\n",
    "from sklearn.tree import DecisionTreeRegressor\n",
    "# RandomForest\n",
    "from sklearn.ensemble import RandomForestRegressor\n",
    "# GradientBoosting\n",
    "from sklearn.ensemble import GradientBoostingRegressor\n",
    "\n",
    "# 평가 함수\n",
    "from sklearn.metrics import mean_squared_error\n",
    "from sklearn.metrics import mean_absolute_error"
   ]
  },
  {
   "cell_type": "code",
   "execution_count": 2,
   "id": "c25be533",
   "metadata": {},
   "outputs": [],
   "source": [
    "# 한글 맑은 고딕 적용\n",
    "mpl.rc(\"font\", family = \"Malgun Gothic\")\n",
    "# 음수값 표시\n",
    "mpl.rc('axes', unicode_minus = False)"
   ]
  },
  {
   "cell_type": "code",
   "execution_count": 7,
   "id": "2494bff5",
   "metadata": {},
   "outputs": [],
   "source": [
    "# RMSE: root mean squared error 함수 => 작을수록 좋음 => 추정모형의 예측 정확도\n",
    "def root_mean_squared_error(y_true, y_pred):\n",
    "    return np.sqrt(mean_squared_error(y_true, y_pred))\n",
    "# MAPE: mean absolute percentage error 함수 \n",
    "# MAPE = 예측정확도 = 0에 가까울수록 모델과 실제가 정확하다는 것 = 0이면 모형 예측 매우 정확 = 실측치,예측치 같음\n",
    "\n",
    "def mean_absolute_percentage_error(y_true, y_pred):\n",
    "    return np.mean(np.abs(y_true - y_pred) / y_true) * 100"
   ]
  },
  {
   "cell_type": "code",
   "execution_count": 8,
   "id": "65b160f0",
   "metadata": {},
   "outputs": [
    {
     "name": "stdout",
     "output_type": "stream",
     "text": [
      "학습용 데이터 : (176, 14)\n",
      "평가용 데이터 : (76, 14)\n",
      "학습용 X 데이터 : (176, 13)\n",
      "학습용 Y 데이터 : (176,)\n",
      "평가용 X 데이터 : (76, 13)\n",
      "평가용 Y 데이터 : (76,)\n"
     ]
    }
   ],
   "source": [
    "# 파일명, 변수, 값 등에 한글 포함시 encoding=“euc-kr\" 지정 \n",
    "df_raw = pd.read_csv(\"../data/body.csv\")\n",
    "df_raw.head()\n",
    "\n",
    "# 목표변수, 설명변수 분리\n",
    "df_raw_y = df_raw[\"FAT\"]\n",
    "df_raw_x = df_raw.drop(\"FAT\", axis = 1, inplace = False)\n",
    "\n",
    "# 학습용/평가용 데이터 분리\n",
    "df_train, df_test = train_test_split(df_raw, test_size = 0.3, random_state = 1234) \n",
    "df_train_x, df_test_x, df_train_y, df_test_y = train_test_split(df_raw_x, df_raw_y\n",
    "                                                                , test_size = 0.3, random_state = 1234)\n",
    " \n",
    "print(\"학습용 데이터 : {}\".format(df_train.shape))\n",
    "print(\"평가용 데이터 : {}\".format(df_test.shape))\n",
    "\n",
    "print(\"학습용 X 데이터 : {}\".format(df_train_x.shape))\n",
    "print(\"학습용 Y 데이터 : {}\".format(df_train_y.shape))\n",
    "print(\"평가용 X 데이터 : {}\".format(df_test_x.shape))\n",
    "print(\"평가용 Y 데이터 : {}\".format(df_test_y.shape))"
   ]
  },
  {
   "cell_type": "code",
   "execution_count": 10,
   "id": "5d40f471",
   "metadata": {},
   "outputs": [
    {
     "data": {
      "text/plain": [
       "GradientBoostingRegressor(max_depth=4, min_samples_leaf=6, random_state=1234)"
      ]
     },
     "execution_count": 10,
     "metadata": {},
     "output_type": "execute_result"
    }
   ],
   "source": [
    "# 4개의 모델을 만듦\n",
    "\n",
    "# 회귀 모델\n",
    "lr_model = smf.ols(formula=\"FAT ~ WEIGHT + ABDOMEN + FOREARM + WRIST\", data = df_train)\n",
    "lr_result = lr_model.fit()\n",
    "\n",
    "# Decision Tree\n",
    "dt_model = DecisionTreeRegressor(min_samples_leaf = 8, min_samples_split = 20, \n",
    "                                 max_depth = 6, random_state=1234)\n",
    "dt_model.fit(df_train_x, df_train_y)\n",
    "\n",
    "# Random Forest\n",
    "rf_model = RandomForestRegressor(n_estimators=100, max_depth=8,min_samples_split = 2, \n",
    "                                 min_samples_leaf = 4, random_state=1234)\n",
    "rf_model.fit(df_train_x, df_train_y)\n",
    "\n",
    "# Gradient Boosting\n",
    "gb_model = GradientBoostingRegressor(learning_rate = 0.1, n_estimators = 100, max_depth = 4,  \n",
    "                                                    min_samples_leaf = 6, random_state=1234)\n",
    "gb_model.fit(df_train_x, df_train_y)"
   ]
  },
  {
   "cell_type": "code",
   "execution_count": 43,
   "id": "d7c02b50",
   "metadata": {},
   "outputs": [],
   "source": [
    "# 모델 리스트, 그래프를 그리기 생성 목적\n",
    "models = [\"회귀분석\", \"의사결정나무\", \"랜덤 포레스트\", \"그래디언트 부스팅\"]\n",
    "# 평가 리스트 초기화\n",
    "mse, rmse, mae, mape = [],[],[],[]"
   ]
  },
  {
   "cell_type": "markdown",
   "id": "2903dc33",
   "metadata": {},
   "source": [
    "- 선형 회귀 모델 "
   ]
  },
  {
   "cell_type": "code",
   "execution_count": 44,
   "id": "1f5ab56f",
   "metadata": {},
   "outputs": [],
   "source": [
    "# 예측\n",
    "lr_y_pred = lr_result.predict(df_test_x)\n",
    "\n",
    "# 평가\n",
    "mse.append(mean_squared_error(df_test_y, lr_y_pred))\n",
    "rmse.append(root_mean_squared_error(df_test_y, lr_y_pred))\n",
    "mae.append(mean_absolute_error(df_test_y, lr_y_pred))\n",
    "mape.append(mean_absolute_percentage_error(df_test_y, lr_y_pred))\n"
   ]
  },
  {
   "cell_type": "markdown",
   "id": "651ff73b",
   "metadata": {},
   "source": [
    "- 의사결정 나무 모델"
   ]
  },
  {
   "cell_type": "code",
   "execution_count": 45,
   "id": "2fa60b3b",
   "metadata": {},
   "outputs": [],
   "source": [
    "# 예측\n",
    "dt_y_pred = dt_model.predict(df_test_x)\n",
    "\n",
    "# 평가\n",
    "mse.append(mean_squared_error(df_test_y, dt_y_pred))\n",
    "rmse.append(root_mean_squared_error(df_test_y, dt_y_pred))\n",
    "mae.append(mean_absolute_error(df_test_y, dt_y_pred))\n",
    "mape.append(mean_absolute_percentage_error(df_test_y, dt_y_pred))\n"
   ]
  },
  {
   "cell_type": "markdown",
   "id": "ec1ad0b1",
   "metadata": {},
   "source": [
    "- Random Forest 모델"
   ]
  },
  {
   "cell_type": "code",
   "execution_count": 46,
   "id": "d3a4bd5f",
   "metadata": {},
   "outputs": [],
   "source": [
    "# 예측\n",
    "rf_y_pred = rf_model.predict(df_test_x)\n",
    "\n",
    "# 평가\n",
    "mse.append(mean_squared_error(df_test_y, rf_y_pred))\n",
    "rmse.append(root_mean_squared_error(df_test_y, rf_y_pred))\n",
    "mae.append(mean_absolute_error(df_test_y, rf_y_pred))\n",
    "mape.append(mean_absolute_percentage_error(df_test_y, rf_y_pred))"
   ]
  },
  {
   "cell_type": "markdown",
   "id": "2758126e",
   "metadata": {},
   "source": [
    "- 그래디언트 부스팅 모델 "
   ]
  },
  {
   "cell_type": "code",
   "execution_count": 47,
   "id": "ceb65cf7",
   "metadata": {},
   "outputs": [],
   "source": [
    "# 예측\n",
    "gb_y_pred = gb_model.predict(df_test_x)\n",
    "\n",
    "# 평가\n",
    "mse.append(mean_squared_error(df_test_y, gb_y_pred))\n",
    "rmse.append(root_mean_squared_error(df_test_y, gb_y_pred))\n",
    "mae.append(mean_absolute_error(df_test_y, gb_y_pred))\n",
    "mape.append(mean_absolute_percentage_error(df_test_y, gb_y_pred))"
   ]
  },
  {
   "cell_type": "markdown",
   "id": "7ac65e16",
   "metadata": {},
   "source": [
    "- 평가 결과 시각화 "
   ]
  },
  {
   "cell_type": "code",
   "execution_count": 49,
   "id": "4af91a64",
   "metadata": {},
   "outputs": [
    {
     "data": {
      "image/png": "[encoded data removed]",
      "text/plain": [
       "<Figure size 936x720 with 4 Axes>"
      ]
     },
     "metadata": {
      "needs_background": "light"
     },
     "output_type": "display_data"
    }
   ],
   "source": [
    "fig, ax = plt.subplots(2,2, figsize = (13,10))\n",
    "ax[0, 0].bar(models, mse)\n",
    "ax[0, 0].set_title(\"mse\").set_fontsize(15)\n",
    "\n",
    "ax[0, 1].bar(models, rmse)\n",
    "ax[0, 1].set_title(\"rmse\").set_fontsize(15)\n",
    "\n",
    "ax[1, 0].bar(models, mae)\n",
    "ax[1, 0].set_title(\"mae\").set_fontsize(15)\n",
    "\n",
    "ax[1, 1].bar(models, mape)\n",
    "ax[1, 1].set_title(\"mape\").set_fontsize(15)"
   ]
  }
 ],
 "metadata": {
  "kernelspec": {
   "display_name": "Python 3",
   "language": "python",
   "name": "python3"
  },
  "language_info": {
   "codemirror_mode": {
    "name": "ipython",
    "version": 3
   },
   "file_extension": ".py",
   "mimetype": "text/x-python",
   "name": "python",
   "nbconvert_exporter": "python",
   "pygments_lexer": "ipython3",
   "version": "3.7.10"
  }
 },
 "nbformat": 4,
 "nbformat_minor": 5
}
