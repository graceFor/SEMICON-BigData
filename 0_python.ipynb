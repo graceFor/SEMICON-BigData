{
 "cells": [
  {
   "cell_type": "markdown",
   "metadata": {
    "colab_type": "text",
    "id": "view-in-github"
   },
   "source": [
    "<a href=\"https://colab.research.google.com/github/JSJeong-me/SEMICON-BigData/blob/main/python.ipynb\" target=\"_parent\"><img src=\"https://colab.research.google.com/assets/colab-badge.svg\" alt=\"Open In Colab\"/></a>"
   ]
  },
  {
   "cell_type": "markdown",
   "metadata": {
    "id": "QxBLxVT2FDV8"
   },
   "source": [
    "## 과정 목표: 파이썬 이해, 데이터 수집 및 정제, 데이터 시각화, 통계의 이해까지이며 내용으로는 Pandas활용, 시각화, 통계적 가설검정"
   ]
  },
  {
   "cell_type": "markdown",
   "metadata": {
    "id": "_qjQKYBADv9H"
   },
   "source": [
    "Computer Program는\n",
    "\n",
    "Mathmatics Notation 과 NLP 사이"
   ]
  },
  {
   "cell_type": "markdown",
   "metadata": {
    "id": "bwGKbkrfEezH"
   },
   "source": [
    "## Python platform — 하부 플랫폼의 식별 데이터에 대한 액세스"
   ]
  },
  {
   "cell_type": "code",
   "execution_count": 2,
   "metadata": {
    "id": "XhAerIjzEd_5"
   },
   "outputs": [],
   "source": [
    "# https://docs.python.org/ko/3/library/platform.html\n",
    "\n",
    "import platform"
   ]
  },
  {
   "cell_type": "code",
   "execution_count": 3,
   "metadata": {
    "id": "YdyciqhEDu4e"
   },
   "outputs": [
    {
     "data": {
      "text/plain": [
       "'x86_64'"
      ]
     },
     "execution_count": 3,
     "metadata": {},
     "output_type": "execute_result"
    }
   ],
   "source": [
    "platform.processor()"
   ]
  },
  {
   "cell_type": "code",
   "execution_count": 4,
   "metadata": {
    "id": "qQ_kGSGTFSVm"
   },
   "outputs": [
    {
     "data": {
      "text/plain": [
       "'3.7.10'"
      ]
     },
     "execution_count": 4,
     "metadata": {},
     "output_type": "execute_result"
    }
   ],
   "source": [
    "platform.python_version()"
   ]
  },
  {
   "cell_type": "code",
   "execution_count": 5,
   "metadata": {
    "id": "7pIngEH5FYLS"
   },
   "outputs": [
    {
     "data": {
      "text/plain": [
       "'Linux'"
      ]
     },
     "execution_count": 5,
     "metadata": {},
     "output_type": "execute_result"
    }
   ],
   "source": [
    "platform.system()"
   ]
  },
  {
   "cell_type": "code",
   "execution_count": 6,
   "metadata": {
    "id": "KmrTb0GCFv2L"
   },
   "outputs": [
    {
     "data": {
      "text/plain": [
       "('default', 'Feb 19 2021 16:07:37')"
      ]
     },
     "execution_count": 6,
     "metadata": {},
     "output_type": "execute_result"
    }
   ],
   "source": [
    "platform.python_build()"
   ]
  },
  {
   "cell_type": "code",
   "execution_count": null,
   "metadata": {
    "id": "pjkW-1MCHLCc"
   },
   "outputs": [],
   "source": []
  },
  {
   "cell_type": "markdown",
   "metadata": {
    "id": "vW5-AJVuHh-X"
   },
   "source": [
    "## 문자열 인덱싱과 슬라이싱"
   ]
  },
  {
   "cell_type": "code",
   "execution_count": 7,
   "metadata": {
    "id": "QH65uXH9Hgjk"
   },
   "outputs": [],
   "source": [
    "a = \"Hello World!\""
   ]
  },
  {
   "cell_type": "code",
   "execution_count": 8,
   "metadata": {},
   "outputs": [
    {
     "data": {
      "text/plain": [
       "str"
      ]
     },
     "execution_count": 8,
     "metadata": {},
     "output_type": "execute_result"
    }
   ],
   "source": [
    "type(a)"
   ]
  },
  {
   "cell_type": "code",
   "execution_count": 9,
   "metadata": {
    "id": "I53ccrm0Hp5n"
   },
   "outputs": [
    {
     "data": {
      "text/plain": [
       "'H'"
      ]
     },
     "execution_count": 9,
     "metadata": {},
     "output_type": "execute_result"
    }
   ],
   "source": [
    "a[0]"
   ]
  },
  {
   "cell_type": "code",
   "execution_count": 10,
   "metadata": {
    "id": "xhqfoRYeHtiZ"
   },
   "outputs": [
    {
     "data": {
      "text/plain": [
       "'!'"
      ]
     },
     "execution_count": 10,
     "metadata": {},
     "output_type": "execute_result"
    }
   ],
   "source": [
    "a[-1]"
   ]
  },
  {
   "cell_type": "code",
   "execution_count": 11,
   "metadata": {
    "id": "XRXv_usKHy__"
   },
   "outputs": [
    {
     "data": {
      "text/plain": [
       "'llo World'"
      ]
     },
     "execution_count": 11,
     "metadata": {},
     "output_type": "execute_result"
    }
   ],
   "source": [
    "a[2:-1]"
   ]
  },
  {
   "cell_type": "code",
   "execution_count": 12,
   "metadata": {
    "id": "_jbZu2ZVH6qL"
   },
   "outputs": [
    {
     "data": {
      "text/plain": [
       "'llo World!'"
      ]
     },
     "execution_count": 12,
     "metadata": {},
     "output_type": "execute_result"
    }
   ],
   "source": [
    "a[2:]"
   ]
  },
  {
   "cell_type": "markdown",
   "metadata": {},
   "source": [
    "## List와 Array"
   ]
  },
  {
   "cell_type": "code",
   "execution_count": 135,
   "metadata": {},
   "outputs": [],
   "source": [
    "import numpy as np"
   ]
  },
  {
   "cell_type": "code",
   "execution_count": 136,
   "metadata": {},
   "outputs": [],
   "source": [
    "score1 = [61,72,83]"
   ]
  },
  {
   "cell_type": "code",
   "execution_count": 137,
   "metadata": {},
   "outputs": [],
   "source": [
    "score_array_1=np.array(score1)"
   ]
  },
  {
   "cell_type": "code",
   "execution_count": 138,
   "metadata": {},
   "outputs": [
    {
     "data": {
      "text/plain": [
       "numpy.ndarray"
      ]
     },
     "execution_count": 138,
     "metadata": {},
     "output_type": "execute_result"
    }
   ],
   "source": [
    "type(score_array_1)"
   ]
  },
  {
   "cell_type": "code",
   "execution_count": 139,
   "metadata": {},
   "outputs": [
    {
     "data": {
      "text/plain": [
       "(3,)"
      ]
     },
     "execution_count": 139,
     "metadata": {},
     "output_type": "execute_result"
    }
   ],
   "source": [
    "score_array_1.shape"
   ]
  },
  {
   "cell_type": "code",
   "execution_count": 169,
   "metadata": {},
   "outputs": [],
   "source": [
    "score = [[61,72,83],\n",
    "        [21,52,33],\n",
    "        [41,72,93]]"
   ]
  },
  {
   "cell_type": "code",
   "execution_count": 170,
   "metadata": {},
   "outputs": [
    {
     "data": {
      "text/plain": [
       "list"
      ]
     },
     "execution_count": 170,
     "metadata": {},
     "output_type": "execute_result"
    }
   ],
   "source": [
    "type(score)"
   ]
  },
  {
   "cell_type": "code",
   "execution_count": 171,
   "metadata": {},
   "outputs": [
    {
     "data": {
      "text/plain": [
       "[[61, 72, 83], [21, 52, 33], [41, 72, 93]]"
      ]
     },
     "execution_count": 171,
     "metadata": {},
     "output_type": "execute_result"
    }
   ],
   "source": [
    "score"
   ]
  },
  {
   "cell_type": "code",
   "execution_count": 172,
   "metadata": {},
   "outputs": [],
   "source": [
    "score_array=np.array(score)"
   ]
  },
  {
   "cell_type": "code",
   "execution_count": 173,
   "metadata": {},
   "outputs": [
    {
     "data": {
      "text/plain": [
       "numpy.ndarray"
      ]
     },
     "execution_count": 173,
     "metadata": {},
     "output_type": "execute_result"
    }
   ],
   "source": [
    "type(score_array)"
   ]
  },
  {
   "cell_type": "code",
   "execution_count": 174,
   "metadata": {},
   "outputs": [
    {
     "data": {
      "text/plain": [
       "array([[61, 72, 83],\n",
       "       [21, 52, 33],\n",
       "       [41, 72, 93]])"
      ]
     },
     "execution_count": 174,
     "metadata": {},
     "output_type": "execute_result"
    }
   ],
   "source": [
    "score_array"
   ]
  },
  {
   "cell_type": "code",
   "execution_count": 175,
   "metadata": {},
   "outputs": [
    {
     "data": {
      "text/plain": [
       "(3, 3)"
      ]
     },
     "execution_count": 175,
     "metadata": {},
     "output_type": "execute_result"
    }
   ],
   "source": [
    "score_array.shape"
   ]
  },
  {
   "cell_type": "code",
   "execution_count": 176,
   "metadata": {},
   "outputs": [
    {
     "data": {
      "text/plain": [
       "array([61, 21, 41])"
      ]
     },
     "execution_count": 176,
     "metadata": {},
     "output_type": "execute_result"
    }
   ],
   "source": [
    "score_array[:,0]"
   ]
  },
  {
   "cell_type": "markdown",
   "metadata": {},
   "source": [
    "### Pandas의 DataFrame을 쓰는 이유는 컬럼값과 인덱스를 줄 수 있고, 엑셀 표처럼 저장이 됨"
   ]
  },
  {
   "cell_type": "code",
   "execution_count": 177,
   "metadata": {
    "id": "CHuLfR8OM-tL"
   },
   "outputs": [],
   "source": [
    "import pandas as pd"
   ]
  },
  {
   "cell_type": "code",
   "execution_count": 178,
   "metadata": {},
   "outputs": [],
   "source": [
    "df_index=['A_class','B_class','C_class']"
   ]
  },
  {
   "cell_type": "code",
   "execution_count": 179,
   "metadata": {},
   "outputs": [],
   "source": [
    "df_columns=['Math','English','Physics']"
   ]
  },
  {
   "cell_type": "code",
   "execution_count": 180,
   "metadata": {},
   "outputs": [],
   "source": [
    "score_df = pd.DataFrame(score_array, columns=df_columns, index=df_index)"
   ]
  },
  {
   "cell_type": "code",
   "execution_count": 181,
   "metadata": {},
   "outputs": [
    {
     "data": {
      "text/plain": [
       "pandas.core.frame.DataFrame"
      ]
     },
     "execution_count": 181,
     "metadata": {},
     "output_type": "execute_result"
    }
   ],
   "source": [
    "type(score_df)"
   ]
  },
  {
   "cell_type": "code",
   "execution_count": 182,
   "metadata": {},
   "outputs": [
    {
     "data": {
      "text/html": [
       "<div>\n",
       "<style scoped>\n",
       "    .dataframe tbody tr th:only-of-type {\n",
       "        vertical-align: middle;\n",
       "    }\n",
       "\n",
       "    .dataframe tbody tr th {\n",
       "        vertical-align: top;\n",
       "    }\n",
       "\n",
       "    .dataframe thead th {\n",
       "        text-align: right;\n",
       "    }\n",
       "</style>\n",
       "<table border=\"1\" class=\"dataframe\">\n",
       "  <thead>\n",
       "    <tr style=\"text-align: right;\">\n",
       "      <th></th>\n",
       "      <th>Math</th>\n",
       "      <th>English</th>\n",
       "      <th>Physics</th>\n",
       "    </tr>\n",
       "  </thead>\n",
       "  <tbody>\n",
       "    <tr>\n",
       "      <th>A_class</th>\n",
       "      <td>61</td>\n",
       "      <td>72</td>\n",
       "      <td>83</td>\n",
       "    </tr>\n",
       "    <tr>\n",
       "      <th>B_class</th>\n",
       "      <td>21</td>\n",
       "      <td>52</td>\n",
       "      <td>33</td>\n",
       "    </tr>\n",
       "    <tr>\n",
       "      <th>C_class</th>\n",
       "      <td>41</td>\n",
       "      <td>72</td>\n",
       "      <td>93</td>\n",
       "    </tr>\n",
       "  </tbody>\n",
       "</table>\n",
       "</div>"
      ],
      "text/plain": [
       "         Math  English  Physics\n",
       "A_class    61       72       83\n",
       "B_class    21       52       33\n",
       "C_class    41       72       93"
      ]
     },
     "execution_count": 182,
     "metadata": {},
     "output_type": "execute_result"
    }
   ],
   "source": [
    "score_df"
   ]
  },
  {
   "cell_type": "code",
   "execution_count": 183,
   "metadata": {},
   "outputs": [
    {
     "data": {
      "text/plain": [
       "A_class    61\n",
       "B_class    21\n",
       "C_class    41\n",
       "Name: Math, dtype: int64"
      ]
     },
     "execution_count": 183,
     "metadata": {},
     "output_type": "execute_result"
    }
   ],
   "source": [
    "score_df['Math']"
   ]
  },
  {
   "cell_type": "code",
   "execution_count": 184,
   "metadata": {},
   "outputs": [
    {
     "data": {
      "text/plain": [
       "A_class    61\n",
       "B_class    21\n",
       "C_class    41\n",
       "Name: Math, dtype: int64"
      ]
     },
     "execution_count": 184,
     "metadata": {},
     "output_type": "execute_result"
    }
   ],
   "source": [
    "score_df.Math"
   ]
  },
  {
   "cell_type": "code",
   "execution_count": 198,
   "metadata": {},
   "outputs": [
    {
     "data": {
      "text/plain": [
       "B_class    52\n",
       "C_class    72\n",
       "Name: English, dtype: int64"
      ]
     },
     "execution_count": 198,
     "metadata": {},
     "output_type": "execute_result"
    }
   ],
   "source": [
    "score_df.iloc[1:,1]"
   ]
  },
  {
   "cell_type": "code",
   "execution_count": 197,
   "metadata": {},
   "outputs": [
    {
     "data": {
      "text/plain": [
       "A_class    61\n",
       "B_class    21\n",
       "C_class    41\n",
       "Name: Math, dtype: int64"
      ]
     },
     "execution_count": 197,
     "metadata": {},
     "output_type": "execute_result"
    }
   ],
   "source": [
    "score_df.loc[:,'Math']"
   ]
  },
  {
   "cell_type": "markdown",
   "metadata": {},
   "source": [
    "### DataFrame은 iloc, loc를 통해서 접근해야함\n",
    "### 밑의 경우에는 array일 때 사용가능"
   ]
  },
  {
   "cell_type": "code",
   "execution_count": 194,
   "metadata": {},
   "outputs": [
    {
     "ename": "TypeError",
     "evalue": "'(slice(None, None, None), 0)' is an invalid key",
     "output_type": "error",
     "traceback": [
      "\u001b[0;31m---------------------------------------------------------------------------\u001b[0m",
      "\u001b[0;31mTypeError\u001b[0m                                 Traceback (most recent call last)",
      "\u001b[0;32m<ipython-input-194-0299f253efda>\u001b[0m in \u001b[0;36m<module>\u001b[0;34m\u001b[0m\n\u001b[0;32m----> 1\u001b[0;31m \u001b[0mscore_df\u001b[0m\u001b[0;34m[\u001b[0m\u001b[0;34m:\u001b[0m\u001b[0;34m,\u001b[0m\u001b[0;36m0\u001b[0m\u001b[0;34m]\u001b[0m\u001b[0;34m\u001b[0m\u001b[0;34m\u001b[0m\u001b[0m\n\u001b[0m",
      "\u001b[0;32m/home/ubuntu/anaconda3/lib/python3.7/site-packages/pandas/core/frame.py\u001b[0m in \u001b[0;36m__getitem__\u001b[0;34m(self, key)\u001b[0m\n\u001b[1;32m   3022\u001b[0m             \u001b[0;32mif\u001b[0m \u001b[0mself\u001b[0m\u001b[0;34m.\u001b[0m\u001b[0mcolumns\u001b[0m\u001b[0;34m.\u001b[0m\u001b[0mnlevels\u001b[0m \u001b[0;34m>\u001b[0m \u001b[0;36m1\u001b[0m\u001b[0;34m:\u001b[0m\u001b[0;34m\u001b[0m\u001b[0;34m\u001b[0m\u001b[0m\n\u001b[1;32m   3023\u001b[0m                 \u001b[0;32mreturn\u001b[0m \u001b[0mself\u001b[0m\u001b[0;34m.\u001b[0m\u001b[0m_getitem_multilevel\u001b[0m\u001b[0;34m(\u001b[0m\u001b[0mkey\u001b[0m\u001b[0;34m)\u001b[0m\u001b[0;34m\u001b[0m\u001b[0;34m\u001b[0m\u001b[0m\n\u001b[0;32m-> 3024\u001b[0;31m             \u001b[0mindexer\u001b[0m \u001b[0;34m=\u001b[0m \u001b[0mself\u001b[0m\u001b[0;34m.\u001b[0m\u001b[0mcolumns\u001b[0m\u001b[0;34m.\u001b[0m\u001b[0mget_loc\u001b[0m\u001b[0;34m(\u001b[0m\u001b[0mkey\u001b[0m\u001b[0;34m)\u001b[0m\u001b[0;34m\u001b[0m\u001b[0;34m\u001b[0m\u001b[0m\n\u001b[0m\u001b[1;32m   3025\u001b[0m             \u001b[0;32mif\u001b[0m \u001b[0mis_integer\u001b[0m\u001b[0;34m(\u001b[0m\u001b[0mindexer\u001b[0m\u001b[0;34m)\u001b[0m\u001b[0;34m:\u001b[0m\u001b[0;34m\u001b[0m\u001b[0;34m\u001b[0m\u001b[0m\n\u001b[1;32m   3026\u001b[0m                 \u001b[0mindexer\u001b[0m \u001b[0;34m=\u001b[0m \u001b[0;34m[\u001b[0m\u001b[0mindexer\u001b[0m\u001b[0;34m]\u001b[0m\u001b[0;34m\u001b[0m\u001b[0;34m\u001b[0m\u001b[0m\n",
      "\u001b[0;32m/home/ubuntu/anaconda3/lib/python3.7/site-packages/pandas/core/indexes/base.py\u001b[0m in \u001b[0;36mget_loc\u001b[0;34m(self, key, method, tolerance)\u001b[0m\n\u001b[1;32m   3078\u001b[0m             \u001b[0mcasted_key\u001b[0m \u001b[0;34m=\u001b[0m \u001b[0mself\u001b[0m\u001b[0;34m.\u001b[0m\u001b[0m_maybe_cast_indexer\u001b[0m\u001b[0;34m(\u001b[0m\u001b[0mkey\u001b[0m\u001b[0;34m)\u001b[0m\u001b[0;34m\u001b[0m\u001b[0;34m\u001b[0m\u001b[0m\n\u001b[1;32m   3079\u001b[0m             \u001b[0;32mtry\u001b[0m\u001b[0;34m:\u001b[0m\u001b[0;34m\u001b[0m\u001b[0;34m\u001b[0m\u001b[0m\n\u001b[0;32m-> 3080\u001b[0;31m                 \u001b[0;32mreturn\u001b[0m \u001b[0mself\u001b[0m\u001b[0;34m.\u001b[0m\u001b[0m_engine\u001b[0m\u001b[0;34m.\u001b[0m\u001b[0mget_loc\u001b[0m\u001b[0;34m(\u001b[0m\u001b[0mcasted_key\u001b[0m\u001b[0;34m)\u001b[0m\u001b[0;34m\u001b[0m\u001b[0;34m\u001b[0m\u001b[0m\n\u001b[0m\u001b[1;32m   3081\u001b[0m             \u001b[0;32mexcept\u001b[0m \u001b[0mKeyError\u001b[0m \u001b[0;32mas\u001b[0m \u001b[0merr\u001b[0m\u001b[0;34m:\u001b[0m\u001b[0;34m\u001b[0m\u001b[0;34m\u001b[0m\u001b[0m\n\u001b[1;32m   3082\u001b[0m                 \u001b[0;32mraise\u001b[0m \u001b[0mKeyError\u001b[0m\u001b[0;34m(\u001b[0m\u001b[0mkey\u001b[0m\u001b[0;34m)\u001b[0m \u001b[0;32mfrom\u001b[0m \u001b[0merr\u001b[0m\u001b[0;34m\u001b[0m\u001b[0;34m\u001b[0m\u001b[0m\n",
      "\u001b[0;32mpandas/_libs/index.pyx\u001b[0m in \u001b[0;36mpandas._libs.index.IndexEngine.get_loc\u001b[0;34m()\u001b[0m\n",
      "\u001b[0;32mpandas/_libs/index.pyx\u001b[0m in \u001b[0;36mpandas._libs.index.IndexEngine.get_loc\u001b[0;34m()\u001b[0m\n",
      "\u001b[0;31mTypeError\u001b[0m: '(slice(None, None, None), 0)' is an invalid key"
     ]
    }
   ],
   "source": [
    "score_df[:,0]  "
   ]
  },
  {
   "cell_type": "code",
   "execution_count": 187,
   "metadata": {},
   "outputs": [],
   "source": [
    "score_value = score_df.values"
   ]
  },
  {
   "cell_type": "code",
   "execution_count": 188,
   "metadata": {},
   "outputs": [
    {
     "data": {
      "text/plain": [
       "numpy.ndarray"
      ]
     },
     "execution_count": 188,
     "metadata": {},
     "output_type": "execute_result"
    }
   ],
   "source": [
    "type(score_value)"
   ]
  },
  {
   "cell_type": "code",
   "execution_count": 189,
   "metadata": {},
   "outputs": [
    {
     "data": {
      "text/plain": [
       "array([[61, 72, 83],\n",
       "       [21, 52, 33],\n",
       "       [41, 72, 93]])"
      ]
     },
     "execution_count": 189,
     "metadata": {},
     "output_type": "execute_result"
    }
   ],
   "source": [
    "score_value"
   ]
  },
  {
   "cell_type": "code",
   "execution_count": 190,
   "metadata": {},
   "outputs": [],
   "source": [
    "score_list = score_value.tolist()"
   ]
  },
  {
   "cell_type": "code",
   "execution_count": 191,
   "metadata": {},
   "outputs": [
    {
     "data": {
      "text/plain": [
       "[[61, 72, 83], [21, 52, 33], [41, 72, 93]]"
      ]
     },
     "execution_count": 191,
     "metadata": {},
     "output_type": "execute_result"
    }
   ],
   "source": [
    "score_list"
   ]
  },
  {
   "cell_type": "code",
   "execution_count": 192,
   "metadata": {},
   "outputs": [
    {
     "data": {
      "text/plain": [
       "list"
      ]
     },
     "execution_count": 192,
     "metadata": {},
     "output_type": "execute_result"
    }
   ],
   "source": [
    "type(score_list)"
   ]
  },
  {
   "cell_type": "markdown",
   "metadata": {},
   "source": [
    "### Series는 인덱스를 줄 수 있음\n",
    "\n",
    "### 엑셀처럼 다룰 수 있음"
   ]
  },
  {
   "cell_type": "code",
   "execution_count": 162,
   "metadata": {},
   "outputs": [],
   "source": [
    "series_index=['Math','English','Physics']"
   ]
  },
  {
   "cell_type": "code",
   "execution_count": 163,
   "metadata": {},
   "outputs": [],
   "source": [
    "score_series = pd.Series(score,index=series_index)"
   ]
  },
  {
   "cell_type": "code",
   "execution_count": 164,
   "metadata": {},
   "outputs": [
    {
     "data": {
      "text/plain": [
       "pandas.core.series.Series"
      ]
     },
     "execution_count": 164,
     "metadata": {},
     "output_type": "execute_result"
    }
   ],
   "source": [
    "type(score_series)"
   ]
  },
  {
   "cell_type": "code",
   "execution_count": 165,
   "metadata": {},
   "outputs": [
    {
     "data": {
      "text/plain": [
       "Math       [61, 72, 83]\n",
       "English    [61, 52, 33]\n",
       "Physics    [61, 72, 93]\n",
       "dtype: object"
      ]
     },
     "execution_count": 165,
     "metadata": {},
     "output_type": "execute_result"
    }
   ],
   "source": [
    "score_series"
   ]
  },
  {
   "cell_type": "markdown",
   "metadata": {
    "id": "P7mw9y-UIH0l"
   },
   "source": [
    "## 문자열 포맷팅 : %"
   ]
  },
  {
   "cell_type": "markdown",
   "metadata": {
    "id": "RIJnfJ9xIkXg"
   },
   "source": [
    "%s는 'string'의 첫 글자로서 문자열을 의미\n",
    "\n",
    "%c는 'character'의 첫 글자로서 문자 1개를 의미\n",
    "\n",
    "%d는 'digit'의 첫 글자로 정수형 숫자를 의미\n",
    "\n",
    "%f는 'floating point'의 첫 글자로서 실수형 숫자를 의미\n"
   ]
  },
  {
   "cell_type": "code",
   "execution_count": null,
   "metadata": {
    "id": "59dvbTSWIzCc"
   },
   "outputs": [],
   "source": [
    "kor = 90\n",
    "eng = 100\n",
    "math = 85\n",
    "sum = kor + eng + math\n",
    "avg = sum/3\n",
    "print('합계 : %d, 평균 : %.2f' % (sum, avg))"
   ]
  },
  {
   "cell_type": "code",
   "execution_count": null,
   "metadata": {
    "cellView": "code",
    "id": "DMTQybFzIAuo"
   },
   "outputs": [],
   "source": [
    "#@title 기본 제목 텍스트\n",
    "color = '파랑'\n",
    "s = '나는 %s을 좋아합니다.' %color # %s에 color값(파랑)을 대입\n",
    "s"
   ]
  },
  {
   "cell_type": "code",
   "execution_count": null,
   "metadata": {
    "id": "9ik2Och3JNSt"
   },
   "outputs": [],
   "source": [
    "a = \"%10s\" % \"hi\"\n",
    "print(a)"
   ]
  },
  {
   "cell_type": "code",
   "execution_count": null,
   "metadata": {
    "id": "7WCqRbrOJYbe"
   },
   "outputs": [],
   "source": [
    "a = \"%-10s\" % \"hi\"\n",
    "print(a)"
   ]
  },
  {
   "cell_type": "code",
   "execution_count": null,
   "metadata": {
    "id": "KSxHPWm0JpW2"
   },
   "outputs": [],
   "source": [
    "a = \"%0.4f\" % 3.42134234\n",
    "print(a)"
   ]
  },
  {
   "cell_type": "code",
   "execution_count": null,
   "metadata": {
    "id": "kbvuK1XeJyn5"
   },
   "outputs": [],
   "source": [
    "number = 4\n",
    "a = \"I want {0} eggs\".format(number)\n",
    "print(a)"
   ]
  },
  {
   "cell_type": "code",
   "execution_count": null,
   "metadata": {
    "id": "Y5HPIZ0WJ9Rb"
   },
   "outputs": [],
   "source": [
    "color = \"white\"\n",
    "day = \"ten\"\n",
    "a = \"I like {0} eggs. so I ate them for {1} days.\".format(color, day)\n",
    "print(a)"
   ]
  },
  {
   "cell_type": "code",
   "execution_count": null,
   "metadata": {
    "id": "Auj0LzbkJ_Hq"
   },
   "outputs": [],
   "source": [
    "a = \" I like {color} eggs. so I ate them for {day} days.\".format(color= \"white\" , day=10)\n",
    "print(a)"
   ]
  },
  {
   "cell_type": "code",
   "execution_count": null,
   "metadata": {
    "id": "lg5JWg4sKD-q"
   },
   "outputs": [],
   "source": [
    "message = '안녕하세요!'\n",
    "str_len = len(message) # message 문자열의 길이\n",
    "print('문자열의 길이 : ' + str(str_len))"
   ]
  },
  {
   "cell_type": "code",
   "execution_count": null,
   "metadata": {
    "id": "5FjzEEQPKPFn"
   },
   "outputs": [],
   "source": [
    "a = \"happy\"\n",
    "c = a.count('p') # happy 문자열에서 p는 몇 개인지 세기\n",
    "print(c)"
   ]
  },
  {
   "cell_type": "code",
   "execution_count": null,
   "metadata": {
    "id": "-9wD1ka1KobX"
   },
   "outputs": [],
   "source": [
    "a = \"I like egg\"\n",
    "f = a.find('e') # 문자열 중 e가 처음 나온 위치 반환\n",
    "print(f)"
   ]
  },
  {
   "cell_type": "code",
   "execution_count": null,
   "metadata": {
    "id": "Xj1sCAnDK2kT"
   },
   "outputs": [],
   "source": [
    "f = a.find('s') # 찾는 문자나 문자열이 존재하지 않는다면 -1을 반환\n",
    "print(f)"
   ]
  },
  {
   "cell_type": "code",
   "execution_count": null,
   "metadata": {
    "id": "TJ4K878yLEAY"
   },
   "outputs": [],
   "source": [
    "a = \"Life is too short\"\n",
    "i = a.index('t') # 문자열 중 t가 처음 나온 위치 반환\n",
    "print(i)"
   ]
  },
  {
   "cell_type": "code",
   "execution_count": null,
   "metadata": {
    "id": "k9vr4djTJ80s"
   },
   "outputs": [],
   "source": [
    "a = \"Life is too short\"\n",
    "i = a.index('k') # 문자열 안에서 찾고자 하는 문자를 찾지 못하면 오류 발생\n",
    "print(i)"
   ]
  },
  {
   "cell_type": "code",
   "execution_count": null,
   "metadata": {
    "id": "Y5sWWPS5LZj_"
   },
   "outputs": [],
   "source": [
    "j = \",\".join('abcd') # abcd 문자열의 각각의 문자 사이에 ',' 를 삽입\n",
    "print(j)"
   ]
  },
  {
   "cell_type": "code",
   "execution_count": null,
   "metadata": {
    "id": "dWRMCRnTLZa5"
   },
   "outputs": [],
   "source": [
    "a = \"HI\"\n",
    "T = a.upper()\n",
    "t = a.lower()\n",
    "print(t, T)\n"
   ]
  },
  {
   "cell_type": "code",
   "execution_count": null,
   "metadata": {
    "id": "8kydk6jnLZQe"
   },
   "outputs": [],
   "source": [
    "a = \" hi \"\n",
    "l = a.lstrip()\n",
    "print(l)"
   ]
  },
  {
   "cell_type": "code",
   "execution_count": null,
   "metadata": {
    "id": "Va9SJqnfMWdu"
   },
   "outputs": [],
   "source": [
    "a= \" hi \"\n",
    "r = a.rstrip()\n",
    "print(r)"
   ]
  },
  {
   "cell_type": "code",
   "execution_count": null,
   "metadata": {
    "id": "NpUXKFLQLZAr"
   },
   "outputs": [],
   "source": [
    "a = \" hi \"\n",
    "s = a.strip()\n",
    "print(s)"
   ]
  },
  {
   "cell_type": "code",
   "execution_count": null,
   "metadata": {
    "id": "TRw8gX9OMcdX"
   },
   "outputs": [],
   "source": [
    "a = \"aaaaHello Pythonaaa\"\n",
    "l = a.lstrip('a')\n",
    "print(l)"
   ]
  },
  {
   "cell_type": "code",
   "execution_count": null,
   "metadata": {
    "id": "b_DDviN6McZ3"
   },
   "outputs": [],
   "source": [
    "a= \"aaaaHello Pythonaaa\"\n",
    "r = a.rstrip('a')\n",
    "print(r)"
   ]
  },
  {
   "cell_type": "code",
   "execution_count": null,
   "metadata": {
    "id": "QszVe1CGMcWP"
   },
   "outputs": [],
   "source": [
    "a = \"aaaaHello Pythonaaa\"\n",
    "s = a.strip('a')\n",
    "print(s)\n",
    "s"
   ]
  },
  {
   "cell_type": "code",
   "execution_count": null,
   "metadata": {
    "id": "o2i0NytcMcSU"
   },
   "outputs": [],
   "source": [
    "a = \"Life is bad\"\n",
    "s = a.replace(\"bad\", \"good\")\n",
    "print(s)"
   ]
  },
  {
   "cell_type": "code",
   "execution_count": null,
   "metadata": {
    "id": "mpDFk8glMcOt"
   },
   "outputs": [],
   "source": [
    "a = \"Life is good\"\n",
    "s = a.split() # 공백을 구분자로 문자열을 나눔\n",
    "print(s)"
   ]
  },
  {
   "cell_type": "code",
   "execution_count": null,
   "metadata": {
    "id": "xDwwiVN1Oxc9"
   },
   "outputs": [],
   "source": [
    "type(a)"
   ]
  },
  {
   "cell_type": "code",
   "execution_count": null,
   "metadata": {
    "id": "og9SSohdMcHR"
   },
   "outputs": [],
   "source": [
    "type(s)"
   ]
  },
  {
   "cell_type": "code",
   "execution_count": null,
   "metadata": {
    "id": "Fo4LYOJzMb9D"
   },
   "outputs": [],
   "source": [
    "b = \"a:b:c:d\"\n",
    "s = b.split(':') # ':' 값을 구분자로 문자열을 나눔\n",
    "print(s)"
   ]
  },
  {
   "cell_type": "markdown",
   "metadata": {
    "id": "LFrPR7UAPStn"
   },
   "source": [
    "## List"
   ]
  },
  {
   "cell_type": "code",
   "execution_count": null,
   "metadata": {
    "id": "91XITEG2O7bt"
   },
   "outputs": [],
   "source": [
    "score = [90, 89, 77, 95, 67] # score 변수에 숫자로 된 리스트형의 값을 저장\n",
    "fruit = ['apple', 'banana', 'orange'] # fruit 변수에 문자열로 된 리스트형의 값을 저장\n",
    "print(score)"
   ]
  },
  {
   "cell_type": "code",
   "execution_count": null,
   "metadata": {
    "id": "k5pzPE3DP0Ri"
   },
   "outputs": [],
   "source": [
    "print(fruit)"
   ]
  },
  {
   "cell_type": "code",
   "execution_count": null,
   "metadata": {
    "id": "g6nFYsNlO7WR"
   },
   "outputs": [],
   "source": [
    "color = ['red', 'green', 'blue', 'black', 'white'] # 가장 왼쪽부터 0번째 값임\n",
    "print(color[4]) "
   ]
  },
  {
   "cell_type": "code",
   "execution_count": null,
   "metadata": {
    "id": "m-Hqd4d0O7R0"
   },
   "outputs": [],
   "source": [
    "print(color[1:4])"
   ]
  },
  {
   "cell_type": "code",
   "execution_count": null,
   "metadata": {
    "id": "TDvo82wnO7LT"
   },
   "outputs": [],
   "source": [
    "a = [1, 2, 3, ['a', 'b', 'c'], 4, 5]\n",
    "print(a[2:5]) # a변수에서 2번 index에서 4번 index까지 출력"
   ]
  },
  {
   "cell_type": "code",
   "execution_count": null,
   "metadata": {
    "id": "6OFzT8y4O7Hp"
   },
   "outputs": [],
   "source": [
    "print(a[3][:2])"
   ]
  },
  {
   "cell_type": "code",
   "execution_count": null,
   "metadata": {
    "id": "FD7e5kz9O68u"
   },
   "outputs": [],
   "source": [
    "num = list(range(1,21, 2)) # 1부터 20까지 2씩 증가하는 데이터 생성\n",
    "print(num)"
   ]
  },
  {
   "cell_type": "code",
   "execution_count": null,
   "metadata": {
    "id": "ic6J_FnEO606"
   },
   "outputs": [],
   "source": [
    "print(num[3:7])"
   ]
  },
  {
   "cell_type": "markdown",
   "metadata": {
    "id": "fPKdgZcWQwxS"
   },
   "source": [
    "## 리스트 연산하기"
   ]
  },
  {
   "cell_type": "code",
   "execution_count": 15,
   "metadata": {
    "id": "wzhUsz0EMbv1"
   },
   "outputs": [
    {
     "name": "stdout",
     "output_type": "stream",
     "text": [
      "[1, 2, 3, 4, 5, 6]\n"
     ]
    }
   ],
   "source": [
    "a = [1, 2, 3]\n",
    "b = [4, 5, 6]\n",
    "print(a + b)"
   ]
  },
  {
   "cell_type": "code",
   "execution_count": 16,
   "metadata": {
    "id": "--JbdxzFQ2vm"
   },
   "outputs": [
    {
     "name": "stdout",
     "output_type": "stream",
     "text": [
      "[1, 2, 3, 1, 2, 3, 1, 2, 3]\n"
     ]
    }
   ],
   "source": [
    "a = [1, 2, 3]\n",
    "print(a * 3)"
   ]
  },
  {
   "cell_type": "code",
   "execution_count": 17,
   "metadata": {
    "id": "T8k4WaR5Q2r3"
   },
   "outputs": [
    {
     "name": "stdout",
     "output_type": "stream",
     "text": [
      "3\n"
     ]
    }
   ],
   "source": [
    "a = [1, 2, 3]\n",
    "print(len(a))"
   ]
  },
  {
   "cell_type": "code",
   "execution_count": 18,
   "metadata": {
    "id": "ZIVUIq8mQ2pC"
   },
   "outputs": [
    {
     "name": "stdout",
     "output_type": "stream",
     "text": [
      "[1, 2, 4]\n"
     ]
    }
   ],
   "source": [
    "a = [1, 2, 3]\n",
    "a[2] = 4 # a의 3번째 값에 4를 저장\n",
    "print(a)"
   ]
  },
  {
   "cell_type": "code",
   "execution_count": 19,
   "metadata": {
    "id": "omwiWwUYQ2ia"
   },
   "outputs": [
    {
     "name": "stdout",
     "output_type": "stream",
     "text": [
      "[1, 3]\n"
     ]
    }
   ],
   "source": [
    "a = [1, 2, 3]\n",
    "del a[1] # a의 2번째 값을 삭제\n",
    "print(a)"
   ]
  },
  {
   "cell_type": "code",
   "execution_count": 20,
   "metadata": {
    "id": "rLbv0JmhQ2dR"
   },
   "outputs": [
    {
     "name": "stdout",
     "output_type": "stream",
     "text": [
      "[1, 2]\n"
     ]
    }
   ],
   "source": [
    "a = [1, 2, 3, 4, 5]\n",
    "del a[2:] # a의 3번째 값부터 삭제\n",
    "print(a)"
   ]
  },
  {
   "cell_type": "code",
   "execution_count": 21,
   "metadata": {
    "colab": {
     "base_uri": "https://localhost:8080/"
    },
    "id": "80x9hCQVQ2Yw",
    "outputId": "7679ed33-63c8-4e81-cad8-e329c97c0034"
   },
   "outputs": [
    {
     "name": "stdout",
     "output_type": "stream",
     "text": [
      "[1, 2, 3, 4]\n"
     ]
    }
   ],
   "source": [
    "a = [1, 2, 3]\n",
    "a.append(4) # a의 값에 4를 추가\n",
    "print(a)"
   ]
  },
  {
   "cell_type": "code",
   "execution_count": 22,
   "metadata": {
    "id": "yGPQOdARQ2K1"
   },
   "outputs": [
    {
     "name": "stdout",
     "output_type": "stream",
     "text": [
      "[1, 2, 3, 4, [5, 6]]\n"
     ]
    }
   ],
   "source": [
    "a.append([5,6]) # a의 값에 [5,6] 리스트를 추가\n",
    "print(a)"
   ]
  },
  {
   "cell_type": "code",
   "execution_count": 23,
   "metadata": {
    "id": "_5DOO8uhQ1sc"
   },
   "outputs": [
    {
     "name": "stdout",
     "output_type": "stream",
     "text": [
      "[4, 1, 2, 3]\n"
     ]
    }
   ],
   "source": [
    "a = [1, 2, 3]\n",
    "a.insert(0, 4) # insert(a, b)는 리스트의 a번째 위치에 b를 삽입\n",
    "print(a)"
   ]
  },
  {
   "cell_type": "code",
   "execution_count": 24,
   "metadata": {
    "id": "ZhcPKAFtRmk6"
   },
   "outputs": [
    {
     "name": "stdout",
     "output_type": "stream",
     "text": [
      "[1, 2, 1, 2, 3]\n"
     ]
    }
   ],
   "source": [
    "a = [1, 2, 3, 1, 2, 3]\n",
    "a.remove(3) # remove(x)는 리스트에서 첫 번째로 나오는 x를 삭제\n",
    "print(a)"
   ]
  },
  {
   "cell_type": "code",
   "execution_count": 25,
   "metadata": {
    "colab": {
     "base_uri": "https://localhost:8080/"
    },
    "id": "L3KQOK-vRmhM",
    "outputId": "0b6ef68d-c85b-4f25-86da-858703286b2e"
   },
   "outputs": [
    {
     "name": "stdout",
     "output_type": "stream",
     "text": [
      "3\n"
     ]
    }
   ],
   "source": [
    "a = [1,2,3]\n",
    "print(a.pop()) # pop()은 리스트의 맨 마지막 요소를 돌려주고 그 요소는 삭제"
   ]
  },
  {
   "cell_type": "code",
   "execution_count": 26,
   "metadata": {
    "colab": {
     "base_uri": "https://localhost:8080/"
    },
    "id": "lHAnzEsGRmfO",
    "outputId": "f0ee4d8c-020c-4efb-990b-37db18e9bae2"
   },
   "outputs": [
    {
     "data": {
      "text/plain": [
       "[1, 2]"
      ]
     },
     "execution_count": 26,
     "metadata": {},
     "output_type": "execute_result"
    }
   ],
   "source": [
    "a"
   ]
  },
  {
   "cell_type": "code",
   "execution_count": 27,
   "metadata": {
    "colab": {
     "base_uri": "https://localhost:8080/"
    },
    "id": "pGWU-x6kRmXL",
    "outputId": "f7cdad8e-55f5-4c8c-f2c1-a6e2f66e604d"
   },
   "outputs": [
    {
     "name": "stdout",
     "output_type": "stream",
     "text": [
      "2\n"
     ]
    }
   ],
   "source": [
    "b = [1,2,3]\n",
    "print(b.pop(1)) # pop(x)는 리스트의 x번째 요소를 돌려주고 그 요소는 삭제"
   ]
  },
  {
   "cell_type": "code",
   "execution_count": 28,
   "metadata": {
    "colab": {
     "base_uri": "https://localhost:8080/"
    },
    "id": "ruRoYTFfRmKK",
    "outputId": "21d2b1ea-8a96-4617-b90d-c51ae056f96b"
   },
   "outputs": [
    {
     "name": "stdout",
     "output_type": "stream",
     "text": [
      "[1, 3]\n"
     ]
    }
   ],
   "source": [
    "print(b)"
   ]
  },
  {
   "cell_type": "markdown",
   "metadata": {
    "id": "uZiwep9ROcOH"
   },
   "source": [
    "## 리스트 관련 함수"
   ]
  },
  {
   "cell_type": "code",
   "execution_count": 29,
   "metadata": {
    "id": "GACZ_klWSWKn"
   },
   "outputs": [
    {
     "name": "stdout",
     "output_type": "stream",
     "text": [
      "['b', 'c', 'a']\n"
     ]
    }
   ],
   "source": [
    "a = ['a', 'c', 'b']\n",
    "a.reverse() # a의 순서를 뒤집기\n",
    "print(a)"
   ]
  },
  {
   "cell_type": "code",
   "execution_count": 30,
   "metadata": {
    "id": "MyAzyYFfSV7i"
   },
   "outputs": [
    {
     "name": "stdout",
     "output_type": "stream",
     "text": [
      "2\n"
     ]
    }
   ],
   "source": [
    "a = [1,2,3]\n",
    "print(a.index(3)) "
   ]
  },
  {
   "cell_type": "code",
   "execution_count": 31,
   "metadata": {
    "id": "Hw8qMw_9SV2F"
   },
   "outputs": [
    {
     "name": "stdout",
     "output_type": "stream",
     "text": [
      "[1, 2, 3, 4]\n"
     ]
    }
   ],
   "source": [
    "a = [1, 4, 3, 2]\n",
    "a.sort() # a를 오름차순으로 정렬\n",
    "print(a)"
   ]
  },
  {
   "cell_type": "code",
   "execution_count": 32,
   "metadata": {
    "id": "-oXkfCHqSVyr"
   },
   "outputs": [
    {
     "name": "stdout",
     "output_type": "stream",
     "text": [
      "[4, 3, 2, 1]\n"
     ]
    }
   ],
   "source": [
    "a = [1, 4, 3, 2]\n",
    "a.sort(reverse = True) #a를 내림차순 정렬\n",
    "print(a)"
   ]
  },
  {
   "cell_type": "code",
   "execution_count": 33,
   "metadata": {
    "id": "55rfLsIhSViu"
   },
   "outputs": [
    {
     "name": "stdout",
     "output_type": "stream",
     "text": [
      "2\n"
     ]
    }
   ],
   "source": [
    "a = [1,2,3,1]\n",
    "print(a.count(1))"
   ]
  },
  {
   "cell_type": "code",
   "execution_count": 34,
   "metadata": {
    "id": "LZPWwLs-O2O7"
   },
   "outputs": [
    {
     "name": "stdout",
     "output_type": "stream",
     "text": [
      "[1, 2, 3, 4, 5]\n"
     ]
    }
   ],
   "source": [
    "a = [1,2,3]\n",
    "a.extend([4,5]) # a 리스트에 x 리스트를 더함\n",
    "print(a)"
   ]
  },
  {
   "cell_type": "code",
   "execution_count": 35,
   "metadata": {
    "id": "ipacjmMdO2Jb"
   },
   "outputs": [
    {
     "name": "stdout",
     "output_type": "stream",
     "text": [
      "[1, 2, 3, 4, 5, 6, 7]\n"
     ]
    }
   ],
   "source": [
    "b = [6, 7]\n",
    "a.extend(b)\n",
    "print(a)"
   ]
  },
  {
   "cell_type": "markdown",
   "metadata": {
    "id": "SYxhRF9zPHfD"
   },
   "source": [
    "## Tuple 자료\n",
    "\n",
    "\n",
    "  > • List와 같이 여러 개의 데이터를 집어넣을 수 있는 공간. 소괄호를 이용하여, 데이터를 묶어 줌.\n",
    "\n",
    "  (예) c = (1,2,3,4,5)\n",
    "  > • Tuple 내 데이터 간에 순서가 존재함\n",
    "\n",
    "  > • 한번 선언된 Tuple은 변경이 불가능함\n",
    "  \n",
    "  > • 함수와 반복문 같이 중요한 하이퍼파라미터(Hyper Parameter)들을 보호할 때 사용\n",
    "  > - 하이퍼파라미터 : 수식 내 값이 변하지 않는 인자나 상수\n",
    "\n",
    "\n"
   ]
  },
  {
   "cell_type": "code",
   "execution_count": 36,
   "metadata": {
    "id": "4t9PuDIYPGNM"
   },
   "outputs": [
    {
     "name": "stdout",
     "output_type": "stream",
     "text": [
      "(1, 2, 3)\n"
     ]
    }
   ],
   "source": [
    "t1 = (1, 2, 3)\n",
    "print(t1)"
   ]
  },
  {
   "cell_type": "code",
   "execution_count": 37,
   "metadata": {
    "id": "RKndQPMfQrjR"
   },
   "outputs": [
    {
     "data": {
      "text/plain": [
       "tuple"
      ]
     },
     "execution_count": 37,
     "metadata": {},
     "output_type": "execute_result"
    }
   ],
   "source": [
    "type(t1)"
   ]
  },
  {
   "cell_type": "code",
   "execution_count": 38,
   "metadata": {
    "id": "l6aUjls2O2HA"
   },
   "outputs": [
    {
     "name": "stdout",
     "output_type": "stream",
     "text": [
      "('a', 'b', ('ab', 'cd'))\n"
     ]
    }
   ],
   "source": [
    "t2 = ('a', 'b', ('ab', 'cd'))\n",
    "print(t2)"
   ]
  },
  {
   "cell_type": "code",
   "execution_count": 39,
   "metadata": {
    "id": "8QESv_rRO2Du"
   },
   "outputs": [
    {
     "name": "stdout",
     "output_type": "stream",
     "text": [
      "(4,)\n"
     ]
    }
   ],
   "source": [
    "t3=(4,)\n",
    "print(t3) # 데이터를 하나만 가진 튜플을 만들 땐 데이터 뒤에 콤마(,)를 꼭 찍어야 함"
   ]
  },
  {
   "cell_type": "code",
   "execution_count": 40,
   "metadata": {
    "id": "nT2K9yCWO2BG"
   },
   "outputs": [
    {
     "name": "stdout",
     "output_type": "stream",
     "text": [
      "1\n"
     ]
    }
   ],
   "source": [
    "t1 = (1, 2, 'a', 'b')\n",
    "print(t1[0]) # t1의 1번째 값을 출력"
   ]
  },
  {
   "cell_type": "code",
   "execution_count": 41,
   "metadata": {
    "id": "LkvgKM9XO19t"
   },
   "outputs": [
    {
     "name": "stdout",
     "output_type": "stream",
     "text": [
      "b\n"
     ]
    }
   ],
   "source": [
    "print(t1[3]) # t1의 4번째 값을 출력"
   ]
  },
  {
   "cell_type": "code",
   "execution_count": 42,
   "metadata": {
    "id": "om42qigSO17U"
   },
   "outputs": [
    {
     "name": "stdout",
     "output_type": "stream",
     "text": [
      "(2, 'a', 'b')\n"
     ]
    }
   ],
   "source": [
    "t1 = (1, 2, 'a', 'b')\n",
    "print(t1[1:]) # t1의 2번째부터 출력"
   ]
  },
  {
   "cell_type": "code",
   "execution_count": 43,
   "metadata": {
    "id": "kttvQOPSO14H"
   },
   "outputs": [
    {
     "name": "stdout",
     "output_type": "stream",
     "text": [
      "(1, 2, 'a', 'b', 3, 4)\n"
     ]
    }
   ],
   "source": [
    "t1 = (1, 2, 'a', 'b')\n",
    "t2 = (3, 4)\n",
    "print(t1 + t2)"
   ]
  },
  {
   "cell_type": "code",
   "execution_count": 44,
   "metadata": {
    "id": "RV-6EnVgO11M"
   },
   "outputs": [
    {
     "name": "stdout",
     "output_type": "stream",
     "text": [
      "(3, 4, 3, 4, 3, 4)\n"
     ]
    }
   ],
   "source": [
    "t2 = (3, 4)\n",
    "print(t2 * 3)"
   ]
  },
  {
   "cell_type": "code",
   "execution_count": 45,
   "metadata": {
    "id": "fg54ddEjO1yX"
   },
   "outputs": [
    {
     "name": "stdout",
     "output_type": "stream",
     "text": [
      "4\n"
     ]
    }
   ],
   "source": [
    "t1 = (1, 2, 'a', 'b')\n",
    "print(len(t1))"
   ]
  },
  {
   "cell_type": "markdown",
   "metadata": {
    "id": "LdxcdbXBQ0PT"
   },
   "source": [
    "## **Dictionary 자료** \n",
    "\n",
    "  • 데이터를 Key와 Value의 Pair 형태로 하나의 변수에 선언\n",
    "\n",
    "  • 중괄호를 이용하여, key-value Pair 형태로 묶어줌.\n",
    "\n",
    "  - d = {“name” : “Kim”, “value” : 100 } : Kim이라는 데이터가 name이라는 키 값과 쌍을 이루고 100이라는 데이터가 value라는 키 값과 쌍을 이룸.\n",
    "\n",
    "• 매우 많이 사용되는 데이터 자료형 중 하나로 구조적으로 다룰 수 있음.\n",
    "\n",
    "• Key 값은 중복되지 않음.\n"
   ]
  },
  {
   "cell_type": "code",
   "execution_count": 46,
   "metadata": {
    "id": "3q3GY2pJQzdk"
   },
   "outputs": [],
   "source": [
    "dic = {'name':'kim', 'phone':'01012341234', 'birth': '0705'}"
   ]
  },
  {
   "cell_type": "code",
   "execution_count": 47,
   "metadata": {
    "id": "GdvvhRyxO1vv"
   },
   "outputs": [
    {
     "data": {
      "text/plain": [
       "dict"
      ]
     },
     "execution_count": 47,
     "metadata": {},
     "output_type": "execute_result"
    }
   ],
   "source": [
    "type(dic)"
   ]
  },
  {
   "cell_type": "code",
   "execution_count": 199,
   "metadata": {},
   "outputs": [
    {
     "data": {
      "text/plain": [
       "dict_keys(['name', 'phone', 'birth'])"
      ]
     },
     "execution_count": 199,
     "metadata": {},
     "output_type": "execute_result"
    }
   ],
   "source": [
    "dic.keys()"
   ]
  },
  {
   "cell_type": "code",
   "execution_count": 200,
   "metadata": {},
   "outputs": [
    {
     "data": {
      "text/plain": [
       "dict_values(['kim', '01012341234', '0705'])"
      ]
     },
     "execution_count": 200,
     "metadata": {},
     "output_type": "execute_result"
    }
   ],
   "source": [
    "dic.values()"
   ]
  },
  {
   "cell_type": "code",
   "execution_count": 48,
   "metadata": {
    "id": "9coOYLU-QwpP"
   },
   "outputs": [],
   "source": [
    "a = {1: 'hi'}"
   ]
  },
  {
   "cell_type": "code",
   "execution_count": 49,
   "metadata": {
    "id": "fVh1jWfHQwnO"
   },
   "outputs": [
    {
     "data": {
      "text/plain": [
       "dict"
      ]
     },
     "execution_count": 49,
     "metadata": {},
     "output_type": "execute_result"
    }
   ],
   "source": [
    "type(a)"
   ]
  },
  {
   "cell_type": "code",
   "execution_count": 50,
   "metadata": {
    "id": "-nN-sQmWQwjT"
   },
   "outputs": [],
   "source": [
    "a = { 'a': [1,2,3]} # Value에 List를 넣은 예"
   ]
  },
  {
   "cell_type": "code",
   "execution_count": 51,
   "metadata": {
    "id": "tnS12r55Qwg1"
   },
   "outputs": [
    {
     "data": {
      "text/plain": [
       "{'a': [1, 2, 3]}"
      ]
     },
     "execution_count": 51,
     "metadata": {},
     "output_type": "execute_result"
    }
   ],
   "source": [
    "a"
   ]
  },
  {
   "cell_type": "code",
   "execution_count": 52,
   "metadata": {
    "id": "aHFZzO5lQwdl"
   },
   "outputs": [
    {
     "name": "stdout",
     "output_type": "stream",
     "text": [
      "{1: 'a', 2: 'b'}\n"
     ]
    }
   ],
   "source": [
    "a = {1: 'a'}\n",
    "a[2] = 'b' # 딕셔너리 a에 Key와 Value가 각각 2와 'b'인 딕셔너리 쌍 추가\n",
    "print(a)"
   ]
  },
  {
   "cell_type": "code",
   "execution_count": 53,
   "metadata": {
    "id": "VTk-K8S5QwaR"
   },
   "outputs": [
    {
     "name": "stdout",
     "output_type": "stream",
     "text": [
      "{1: 'a', 2: 'b', 'name': 'kim'}\n"
     ]
    }
   ],
   "source": [
    "a['name'] = 'kim' # 딕셔너리 a에 'name': ‘kim'라는 쌍을 추가\n",
    "print(a)"
   ]
  },
  {
   "cell_type": "code",
   "execution_count": 54,
   "metadata": {
    "id": "ZmLrayWWQwWu"
   },
   "outputs": [
    {
     "name": "stdout",
     "output_type": "stream",
     "text": [
      "{1: 'a', 2: 'b', 'name': 'kim', 3: [1, 2, 3]}\n"
     ]
    }
   ],
   "source": [
    "a[3] = [1,2,3] # Key는 3, Value는 [1, 2, 3]을 가지는 한 쌍이 추가\n",
    "print(a)"
   ]
  },
  {
   "cell_type": "code",
   "execution_count": 55,
   "metadata": {
    "id": "z1NFPhS3QwTK"
   },
   "outputs": [
    {
     "name": "stdout",
     "output_type": "stream",
     "text": [
      "{2: 'b', 'name': 'kim', 3: [1, 2, 3]}\n"
     ]
    }
   ],
   "source": [
    "del a[1] # 지정한 Key 1에 해당하는 {key : value} 쌍이 삭제\n",
    "print(a)"
   ]
  },
  {
   "cell_type": "code",
   "execution_count": 56,
   "metadata": {
    "id": "mpNVTfBwQwPZ"
   },
   "outputs": [
    {
     "name": "stdout",
     "output_type": "stream",
     "text": [
      "30\n"
     ]
    }
   ],
   "source": [
    "grade = {'kim': 30, 'lee': 80}\n",
    "print(grade['kim'])"
   ]
  },
  {
   "cell_type": "code",
   "execution_count": 57,
   "metadata": {
    "id": "uABTr_meQwL3"
   },
   "outputs": [
    {
     "name": "stdout",
     "output_type": "stream",
     "text": [
      "80\n"
     ]
    }
   ],
   "source": [
    "print(grade['lee'])"
   ]
  },
  {
   "cell_type": "code",
   "execution_count": 58,
   "metadata": {
    "id": "n13j1qynO1pt"
   },
   "outputs": [
    {
     "name": "stdout",
     "output_type": "stream",
     "text": [
      "a\n"
     ]
    }
   ],
   "source": [
    "a = {1:'a', 2:'b'}\n",
    "print(a[1])"
   ]
  },
  {
   "cell_type": "code",
   "execution_count": 59,
   "metadata": {
    "id": "LDea7ezzSswT"
   },
   "outputs": [
    {
     "data": {
      "text/plain": [
       "'a'"
      ]
     },
     "execution_count": 59,
     "metadata": {},
     "output_type": "execute_result"
    }
   ],
   "source": [
    "a[1]"
   ]
  },
  {
   "cell_type": "code",
   "execution_count": 60,
   "metadata": {
    "id": "uWJ2k1uHO1mP"
   },
   "outputs": [
    {
     "name": "stdout",
     "output_type": "stream",
     "text": [
      "b\n"
     ]
    }
   ],
   "source": [
    "print(a[2])"
   ]
  },
  {
   "cell_type": "code",
   "execution_count": 61,
   "metadata": {
    "id": "pWo8vmEmO1h9"
   },
   "outputs": [
    {
     "name": "stdout",
     "output_type": "stream",
     "text": [
      "1\n"
     ]
    }
   ],
   "source": [
    "a = {'a':1, 'b':2}\n",
    "print(a['a'])"
   ]
  },
  {
   "cell_type": "code",
   "execution_count": 62,
   "metadata": {
    "id": "vzwMFRnAO1dx"
   },
   "outputs": [
    {
     "name": "stdout",
     "output_type": "stream",
     "text": [
      "2\n"
     ]
    }
   ],
   "source": [
    "print(a['b'])"
   ]
  },
  {
   "cell_type": "code",
   "execution_count": 63,
   "metadata": {
    "id": "25AsoKE_S9LR"
   },
   "outputs": [
    {
     "name": "stdout",
     "output_type": "stream",
     "text": [
      "dict_keys(['name', 'phone', 'birth'])\n"
     ]
    }
   ],
   "source": [
    "a = {'name': 'kim', 'phone': '01012341234', 'birth': '0705'}\n",
    "print(a.keys()) # a.keys()는 딕셔너리 a의 Key만을 모아서 dict_keys 객체를 돌려줌"
   ]
  },
  {
   "cell_type": "code",
   "execution_count": 64,
   "metadata": {
    "id": "A7uytk1BS9F7"
   },
   "outputs": [
    {
     "name": "stdout",
     "output_type": "stream",
     "text": [
      "['name', 'phone', 'birth']\n"
     ]
    }
   ],
   "source": [
    "print(list(a.keys())) # dict_keys 객체를 리스트로 변환"
   ]
  },
  {
   "cell_type": "code",
   "execution_count": 65,
   "metadata": {
    "id": "J9vjee_2S9DE"
   },
   "outputs": [
    {
     "name": "stdout",
     "output_type": "stream",
     "text": [
      "dict_values(['kim', '01012341234', '0705'])\n"
     ]
    }
   ],
   "source": [
    "a = {'name': 'kim', 'phone': '01012341234', 'birth': '0705'}\n",
    "print(a.values())"
   ]
  },
  {
   "cell_type": "code",
   "execution_count": 66,
   "metadata": {
    "id": "3nqGOJGeS8_6"
   },
   "outputs": [
    {
     "name": "stdout",
     "output_type": "stream",
     "text": [
      "dict_items([('name', 'kim'), ('phone', '01012341234'), ('birth', '0705')])\n"
     ]
    }
   ],
   "source": [
    "a = {'name': 'kim', 'phone': '01012341234', 'birth': '0705'}\n",
    "print(a.items())"
   ]
  },
  {
   "cell_type": "code",
   "execution_count": 67,
   "metadata": {
    "id": "wcPnaZ1JS88u"
   },
   "outputs": [
    {
     "name": "stdout",
     "output_type": "stream",
     "text": [
      "{}\n"
     ]
    }
   ],
   "source": [
    "a = {'name': 'kim', 'phone': '01012341234', 'birth': '0705'}\n",
    "a.clear() # a 딕셔너리 안의 모든 요소를 삭제\n",
    "print(a)"
   ]
  },
  {
   "cell_type": "code",
   "execution_count": 68,
   "metadata": {
    "id": "yP7SwJ0bS852"
   },
   "outputs": [
    {
     "name": "stdout",
     "output_type": "stream",
     "text": [
      "kim\n"
     ]
    }
   ],
   "source": [
    "a = {'name': 'kim', 'phone': '01012341234', 'birth': '0705'}\n",
    "print(a.get('name')) # a 딕셔너리 안의 name key에 해당하는 value 출력"
   ]
  },
  {
   "cell_type": "code",
   "execution_count": 69,
   "metadata": {
    "id": "--gVsCCGS82y"
   },
   "outputs": [
    {
     "name": "stdout",
     "output_type": "stream",
     "text": [
      "True\n"
     ]
    }
   ],
   "source": [
    "a = {'name': 'kim', 'phone': '01012341234', 'birth': '0705'}\n",
    "print('name' in a) # a 딕셔너리 안에 name key가 있으면 True, 없으면 False"
   ]
  },
  {
   "cell_type": "code",
   "execution_count": 70,
   "metadata": {
    "id": "PnA77FrbS8z8"
   },
   "outputs": [
    {
     "name": "stdout",
     "output_type": "stream",
     "text": [
      "False\n"
     ]
    }
   ],
   "source": [
    "print('email' in a)"
   ]
  },
  {
   "cell_type": "markdown",
   "metadata": {
    "id": "BAkhTfYmTxVb"
   },
   "source": [
    "## **집합(Set)이란?**\n",
    "\n",
    "집합에 관련된 것을 쉽게 처리하기 위해 만든 자료형\n",
    "\n",
    "**집합 자료형의 특징**\n",
    "\n",
    "집합 자료형은 중복을 허용하지 않음\n",
    "\n",
    "집합 자료형은 순서가 없음\n",
    "\n",
    "set 자료형은 순서가 없기 때문에 인덱셍으로 값을 얻을 수 없음"
   ]
  },
  {
   "cell_type": "code",
   "execution_count": 71,
   "metadata": {
    "id": "fbQKhibQTw3y"
   },
   "outputs": [
    {
     "name": "stdout",
     "output_type": "stream",
     "text": [
      "{1, 2, 3}\n"
     ]
    }
   ],
   "source": [
    "s1 = set([1,2,3]) # set()의 괄호안에 리스트를 입력\n",
    "print(s1)"
   ]
  },
  {
   "cell_type": "code",
   "execution_count": 72,
   "metadata": {
    "id": "RJO9z1NwS8xQ"
   },
   "outputs": [
    {
     "name": "stdout",
     "output_type": "stream",
     "text": [
      "{'l', 'e', 'o', 'h'}\n"
     ]
    }
   ],
   "source": [
    "s2 = set(\"hello\")\n",
    "print(s2)"
   ]
  },
  {
   "cell_type": "code",
   "execution_count": 73,
   "metadata": {
    "id": "ZvTlTwwYS8ui"
   },
   "outputs": [
    {
     "name": "stdout",
     "output_type": "stream",
     "text": [
      "{4, 5, 6}\n"
     ]
    }
   ],
   "source": [
    "s1 = set([1, 2, 3, 4, 5, 6])\n",
    "s2 = set([4, 5, 6, 7, 8, 9])\n",
    "print(s1 & s2) # 교집합"
   ]
  },
  {
   "cell_type": "code",
   "execution_count": 74,
   "metadata": {
    "id": "p_1eP_EQS8r8"
   },
   "outputs": [
    {
     "name": "stdout",
     "output_type": "stream",
     "text": [
      "{4, 5, 6}\n"
     ]
    }
   ],
   "source": [
    "print(s1.intersection(s2)) # 교집합"
   ]
  },
  {
   "cell_type": "code",
   "execution_count": 75,
   "metadata": {
    "id": "yLjerBeAS8pQ"
   },
   "outputs": [
    {
     "name": "stdout",
     "output_type": "stream",
     "text": [
      "{1, 2, 3, 4, 5, 6, 7, 8, 9}\n"
     ]
    }
   ],
   "source": [
    "print(s1 | s2) # 합집합"
   ]
  },
  {
   "cell_type": "code",
   "execution_count": 76,
   "metadata": {
    "id": "u5muV3CBS8mr"
   },
   "outputs": [
    {
     "name": "stdout",
     "output_type": "stream",
     "text": [
      "{1, 2, 3, 4, 5, 6, 7, 8, 9}\n"
     ]
    }
   ],
   "source": [
    "print(s1.union(s2)) # 합집합"
   ]
  },
  {
   "cell_type": "code",
   "execution_count": 77,
   "metadata": {
    "id": "XYHT3-4_S8j9"
   },
   "outputs": [
    {
     "name": "stdout",
     "output_type": "stream",
     "text": [
      "{1, 2, 3}\n",
      "{8, 9, 7}\n",
      "{1, 2, 3}\n",
      "{8, 9, 7}\n"
     ]
    }
   ],
   "source": [
    "#@title 기본 제목 텍스트\n",
    "print(s1 - s2) # 차집합\n",
    "\n",
    "print(s2 - s1) # 차집합\n",
    "\n",
    "print(s1.difference(s2)) # 차집합\n",
    "\n",
    "print(s2.difference(s1)) # 차집합"
   ]
  },
  {
   "cell_type": "markdown",
   "metadata": {
    "id": "RqLbvtaxVpig"
   },
   "source": [
    "## **input**() **함수**"
   ]
  },
  {
   "cell_type": "code",
   "execution_count": 78,
   "metadata": {
    "id": "h8_va48CS8gY"
   },
   "outputs": [
    {
     "name": "stdout",
     "output_type": "stream",
     "text": [
      "당신의 키는?165\n"
     ]
    }
   ],
   "source": [
    "height=input(\"당신의 키는?\") # height라는 변수에 ‘170’ 문자로 저장"
   ]
  },
  {
   "cell_type": "code",
   "execution_count": 79,
   "metadata": {
    "id": "zV7TY2GdS8dA"
   },
   "outputs": [
    {
     "data": {
      "text/plain": [
       "str"
      ]
     },
     "execution_count": 79,
     "metadata": {},
     "output_type": "execute_result"
    }
   ],
   "source": [
    "type(height) # height라는 변수가 문자인 것을 확인"
   ]
  },
  {
   "cell_type": "code",
   "execution_count": 80,
   "metadata": {
    "id": "nWwAcN6lWC8i"
   },
   "outputs": [
    {
     "name": "stdout",
     "output_type": "stream",
     "text": [
      "당신의 키는?165\n",
      "165\n"
     ]
    }
   ],
   "source": [
    "height=int(input(\"당신의 키는?\"))\n",
    "print(height)"
   ]
  },
  {
   "cell_type": "code",
   "execution_count": 81,
   "metadata": {
    "id": "mU4n3AYEWC5S"
   },
   "outputs": [
    {
     "data": {
      "text/plain": [
       "int"
      ]
     },
     "execution_count": 81,
     "metadata": {},
     "output_type": "execute_result"
    }
   ],
   "source": [
    "type(height)"
   ]
  },
  {
   "cell_type": "code",
   "execution_count": 82,
   "metadata": {
    "id": "AHqZts0uWC2J"
   },
   "outputs": [
    {
     "name": "stdout",
     "output_type": "stream",
     "text": [
      "정사각형 한 변의 길이는?  4\n",
      "정사각형의 넓이 : 16\n"
     ]
    }
   ],
   "source": [
    "a = input(\"정사각형 한 변의 길이는?  \")\n",
    "area = int(a) ** 2\n",
    "print(\"정사각형의 넓이 :\", area)"
   ]
  },
  {
   "cell_type": "markdown",
   "metadata": {
    "id": "YwbfIYKwW3Yg"
   },
   "source": [
    "## **print() 함수**\n",
    "\n"
   ]
  },
  {
   "cell_type": "code",
   "execution_count": 83,
   "metadata": {
    "id": "oa7xIdy_WCzb"
   },
   "outputs": [
    {
     "name": "stdout",
     "output_type": "stream",
     "text": [
      "hello\n"
     ]
    }
   ],
   "source": [
    "print(\"hello\")"
   ]
  },
  {
   "cell_type": "code",
   "execution_count": 84,
   "metadata": {
    "id": "5rxmPkIDWCwk"
   },
   "outputs": [
    {
     "data": {
      "text/plain": [
       "'hello'"
      ]
     },
     "execution_count": 84,
     "metadata": {},
     "output_type": "execute_result"
    }
   ],
   "source": [
    "\"hello\""
   ]
  },
  {
   "cell_type": "code",
   "execution_count": 85,
   "metadata": {
    "id": "iGFD2PT_WCth"
   },
   "outputs": [
    {
     "data": {
      "text/plain": [
       "76"
      ]
     },
     "execution_count": 85,
     "metadata": {},
     "output_type": "execute_result"
    }
   ],
   "source": [
    "55+21"
   ]
  },
  {
   "cell_type": "code",
   "execution_count": 86,
   "metadata": {
    "id": "gIiuFWRbWCqC"
   },
   "outputs": [
    {
     "name": "stdout",
     "output_type": "stream",
     "text": [
      "I Love You "
     ]
    }
   ],
   "source": [
    "print(\"I\", end=\" \")  # 줄을 바꾸지 않고 싶은 경우 end 이용\n",
    "print(\"Love\", end = \" \")\n",
    "print(\"You\" , end= \" \")"
   ]
  },
  {
   "cell_type": "code",
   "execution_count": 87,
   "metadata": {
    "id": "K02wxS1wWCmf"
   },
   "outputs": [
    {
     "name": "stdout",
     "output_type": "stream",
     "text": [
      "I2YOU\n"
     ]
    }
   ],
   "source": [
    "print(\"I\" \"2\" \"YOU\")"
   ]
  },
  {
   "cell_type": "code",
   "execution_count": 88,
   "metadata": {
    "id": "PtGZmGafWCjL"
   },
   "outputs": [
    {
     "name": "stdout",
     "output_type": "stream",
     "text": [
      "I 2 YOU\n"
     ]
    }
   ],
   "source": [
    "print(\"I\", \"2\", \"YOU\")"
   ]
  },
  {
   "cell_type": "code",
   "execution_count": 89,
   "metadata": {
    "id": "LZrWaB7UWCfn"
   },
   "outputs": [
    {
     "name": "stdout",
     "output_type": "stream",
     "text": [
      "I2YOU\n"
     ]
    }
   ],
   "source": [
    "print(\"I\"+ str(2)+ \"YOU\")"
   ]
  },
  {
   "cell_type": "markdown",
   "metadata": {
    "id": "mkjFeVgtYzkK"
   },
   "source": [
    "## **문자열 형식 지정 출력**\n",
    "\n",
    "%s  ---   문자열 형태로 출력\n",
    "\n",
    "%d --- 정수형으로 출력\n",
    "\n",
    "%f --- 부동소수점 형식으로 출력\n",
    "\n",
    "%.nf --- 부동소수점을 소수점 이하 n자리까지 출력\n",
    "\n",
    "%x 또는 %X --- 정수를 16진수 형태(소문자 또는 대문자)로 출력"
   ]
  },
  {
   "cell_type": "code",
   "execution_count": 203,
   "metadata": {
    "scrolled": true
   },
   "outputs": [
    {
     "name": "stdout",
     "output_type": "stream",
     "text": [
      "kim는 23입니다.\n"
     ]
    }
   ],
   "source": [
    "name = \"kim\"\n",
    "age = 23\n",
    "print(\"%s는 %d입니다.\"%(name,age))"
   ]
  },
  {
   "cell_type": "code",
   "execution_count": 90,
   "metadata": {
    "id": "H-Ue7HdeWCcB"
   },
   "outputs": [
    {
     "name": "stdout",
     "output_type": "stream",
     "text": [
      "Hello, John!\n"
     ]
    }
   ],
   "source": [
    "name = \"John\"\n",
    "print(\"Hello, %s!\" % name) "
   ]
  },
  {
   "cell_type": "code",
   "execution_count": 91,
   "metadata": {
    "id": "poVoKHbpYUQK"
   },
   "outputs": [
    {
     "name": "stdout",
     "output_type": "stream",
     "text": [
      "John은 23 살입니다.\n"
     ]
    }
   ],
   "source": [
    "name = \"John\"\n",
    "age = 23\n",
    "print(\"%s은 %d 살입니다.\" % (name, age)) "
   ]
  },
  {
   "cell_type": "code",
   "execution_count": null,
   "metadata": {
    "id": "-LN3cEu4Zt4W"
   },
   "outputs": [],
   "source": []
  },
  {
   "cell_type": "markdown",
   "metadata": {
    "id": "XLDwtsZKZwll"
   },
   "source": [
    "## 예제"
   ]
  },
  {
   "cell_type": "code",
   "execution_count": 92,
   "metadata": {
    "id": "Ldy_Ncn2Zfww"
   },
   "outputs": [
    {
     "name": "stdout",
     "output_type": "stream",
     "text": [
      "상품의 가격을 입력하세요: 4000\n",
      "구매를 위해 낼 돈의 금액을 입력하세요: 5000\n",
      "상품은 4000원이고, 잔돈은 1000원입니다\n"
     ]
    }
   ],
   "source": [
    "cost=input(\"상품의 가격을 입력하세요: \")\n",
    "belong=input(\"구매를 위해 낼 돈의 금액을 입력하세요: \")\n",
    "rest=int(belong)-int(cost)\n",
    "print(\"상품은 \"+cost+\"원이고, 잔돈은 \"+str(rest)+\"원입니다\")"
   ]
  },
  {
   "cell_type": "markdown",
   "metadata": {
    "id": "FBK3mZmSZ1CH"
   },
   "source": [
    "\n",
    "## **if문이란?**\n",
    "\n",
    "if 조건1: # if 조건문 뒤에는 반드시 콜론(:)을 붙임\n",
    "\n",
    "    수행할 문장1 # 들여쓰기(빈칸 4 : 스페이스바 띄움 4번)\n",
    "\n",
    "else:\n",
    "\n",
    "    수행할 문장2"
   ]
  },
  {
   "cell_type": "markdown",
   "metadata": {
    "id": "fSxfDsepaMD9"
   },
   "source": [
    "## **비교연산자**\n",
    "\n",
    "X < y  X가 y보다 작다\n",
    "\n",
    "X > y  X가 y보다 크다\n",
    "\n",
    "X == y  X와 y가 같다\n",
    "\n",
    "X != y  X와 y가 같지 않다\n",
    "\n",
    "\n",
    "X >= y  X가 y보다 크거나 같다\n",
    "\n",
    "X <= y  X가 y보다 작거나 같다\n",
    "\n",
    "\n"
   ]
  },
  {
   "cell_type": "code",
   "execution_count": 93,
   "metadata": {
    "id": "jnx8EGBHZfsU"
   },
   "outputs": [
    {
     "name": "stdout",
     "output_type": "stream",
     "text": [
      "사과를 사라\n"
     ]
    }
   ],
   "source": [
    "money = True\n",
    "if money:\n",
    "  print(\"사과를 사라\")\n",
    "else:\n",
    "  print(\"바나나를 사라\")"
   ]
  },
  {
   "cell_type": "code",
   "execution_count": 94,
   "metadata": {
    "id": "exKTvW4lZfkw"
   },
   "outputs": [
    {
     "name": "stdout",
     "output_type": "stream",
     "text": [
      "바나나를 사라\n"
     ]
    }
   ],
   "source": [
    "money = 5000\n",
    "if money >= 8000:\n",
    "  print(\"사과를 사라\")\n",
    "else:\n",
    "  print(\"바나나를 사라\")"
   ]
  },
  {
   "cell_type": "code",
   "execution_count": 95,
   "metadata": {
    "id": "lF53e-dMZfgu"
   },
   "outputs": [
    {
     "name": "stdout",
     "output_type": "stream",
     "text": [
      "정수를 입력하세요: 2\n",
      "짝수입니다.\n"
     ]
    }
   ],
   "source": [
    "number = input(\"정수를 입력하세요: \")\n",
    "number = int(number)\n",
    "if number % 2 == 0:\n",
    "  print(\"짝수입니다.\")\n",
    "else:\n",
    "  print(\"홀수입니다.\")"
   ]
  },
  {
   "cell_type": "code",
   "execution_count": 96,
   "metadata": {
    "colab": {
     "base_uri": "https://localhost:8080/"
    },
    "id": "Tp3nOPImZfdQ",
    "outputId": "3e543ba5-e378-49b9-d63c-83020defdf40"
   },
   "outputs": [
    {
     "name": "stdout",
     "output_type": "stream",
     "text": [
      "사과를 사라\n"
     ]
    }
   ],
   "source": [
    "money = 5000\n",
    "card = True\n",
    "if money >= 8000 or card:\n",
    "  print(\"사과를 사라\")\n",
    "else:\n",
    "  print(\"바나나를 사라\")  "
   ]
  },
  {
   "cell_type": "code",
   "execution_count": 97,
   "metadata": {
    "colab": {
     "base_uri": "https://localhost:8080/"
    },
    "id": "ae_PSButZfZ4",
    "outputId": "653fc2f8-05e5-41a6-a0c4-6e0d47bb7f4d"
   },
   "outputs": [
    {
     "name": "stdout",
     "output_type": "stream",
     "text": [
      "과일을 사라\n"
     ]
    }
   ],
   "source": [
    "pocket = ['pen', 'phone']\n",
    "card = True\n",
    "if 'money' in pocket:\n",
    "  print(\"과일을 사라\")\n",
    "elif card:\n",
    "  print(\"과일을 사라\")\n",
    "else:\n",
    "  print(\"그냥 가라\")"
   ]
  },
  {
   "cell_type": "code",
   "execution_count": 98,
   "metadata": {
    "id": "T95G56m2ZfVw"
   },
   "outputs": [
    {
     "name": "stdout",
     "output_type": "stream",
     "text": [
      "점수를 입력하시오: 94\n",
      "A0입니다.\n"
     ]
    }
   ],
   "source": [
    "score = int(input(\"점수를 입력하시오: \"))\n",
    "if score >= 95:\n",
    "  grade = \"A+입니다.\"\n",
    "elif score >= 90:\n",
    "  grade = \"A0입니다.\"\n",
    "elif score >= 85:\n",
    "  grade = \"B+입니다.\"\n",
    "elif score >= 80:\n",
    "  grade = \"B0입니다.\"\n",
    "else:\n",
    "  grade = \"C0입니다.\"\n",
    "print(grade)"
   ]
  },
  {
   "cell_type": "markdown",
   "metadata": {
    "id": "n-R_R3zacohs"
   },
   "source": [
    "## **예제**"
   ]
  },
  {
   "cell_type": "code",
   "execution_count": 99,
   "metadata": {
    "id": "XOMyp9FdYULj"
   },
   "outputs": [
    {
     "name": "stdout",
     "output_type": "stream",
     "text": [
      "당신의 몸무게는 몇 kg입니까?49\n",
      "당신의 키는 몇 cm입니까?165\n",
      "당신은 저체중입니다\n"
     ]
    }
   ],
   "source": [
    "weight=input(\"당신의 몸무게는 몇 kg입니까?\")\n",
    "height=input(\"당신의 키는 몇 cm입니까?\")\n",
    "bmi=int(weight)/((int(height)*0.01)**2) \n",
    "if bmi < 18.5:\n",
    "  print(\"당신은 저체중입니다\")\n",
    "elif bmi < 22.9:\n",
    "  print(\"당신은 정상체중입니다\")\n",
    "elif bmi < 24.9:\n",
    "  print(\"당신은 과체중입니다\")\n",
    "elif bmi < 29.9:\n",
    "  print(\"당신은 경도비만입니다\")\n",
    "else:\n",
    "  print(\"당신은 고도비만입니다\")"
   ]
  },
  {
   "cell_type": "code",
   "execution_count": 100,
   "metadata": {
    "id": "IcPJsV8tYUHs"
   },
   "outputs": [
    {
     "name": "stdout",
     "output_type": "stream",
     "text": [
      "17.998163452708905\n"
     ]
    }
   ],
   "source": [
    "print(bmi)"
   ]
  },
  {
   "cell_type": "markdown",
   "metadata": {
    "id": "Es-nafspdRDC"
   },
   "source": [
    "## **while문이란?**"
   ]
  },
  {
   "cell_type": "code",
   "execution_count": 101,
   "metadata": {
    "id": "CWcxcxafYUEZ"
   },
   "outputs": [
    {
     "name": "stdout",
     "output_type": "stream",
     "text": [
      "\n",
      "  1. red\n",
      "  2. yellow\n",
      "  3. blue\n",
      "  4. orange\n",
      "  Enter number: \n",
      "2\n",
      "\n",
      "  1. red\n",
      "  2. yellow\n",
      "  3. blue\n",
      "  4. orange\n",
      "  Enter number: \n",
      "4\n"
     ]
    }
   ],
   "source": [
    "color = \"\"\"\n",
    "  1. red\n",
    "  2. yellow\n",
    "  3. blue\n",
    "  4. orange\n",
    "  Enter number: \"\"\"\n",
    "\n",
    "number = 0\n",
    "while number != 4: # number가 4가 아닌 동안 color를 출력하고  사용자로부터 번호를 입력 받음\n",
    "  print(color)\n",
    "  number = int(input())"
   ]
  },
  {
   "cell_type": "code",
   "execution_count": 102,
   "metadata": {
    "id": "WTSVi48wdUeU"
   },
   "outputs": [
    {
     "name": "stdout",
     "output_type": "stream",
     "text": [
      "55\n"
     ]
    }
   ],
   "source": [
    "i = 0\n",
    "sum = 0\n",
    "while i < 10:\n",
    "  i = i + 1\n",
    "  sum = sum + i\n",
    "  \n",
    "print(sum) "
   ]
  },
  {
   "cell_type": "code",
   "execution_count": 103,
   "metadata": {
    "id": "gDn8f8qwdUac"
   },
   "outputs": [
    {
     "name": "stdout",
     "output_type": "stream",
     "text": [
      "1  3  5  7  9  "
     ]
    }
   ],
   "source": [
    "i = 0\n",
    "while i < 10:\n",
    "  i = i + 1\n",
    "  if i % 2 == 1:\n",
    "    print(i, end = \"  \")"
   ]
  },
  {
   "cell_type": "markdown",
   "metadata": {
    "id": "Zg0m6YYYeoJm"
   },
   "source": [
    "## **break(while문 강제 종료)**"
   ]
  },
  {
   "cell_type": "code",
   "execution_count": 104,
   "metadata": {
    "id": "3godADNwdUXl"
   },
   "outputs": [
    {
     "name": "stdout",
     "output_type": "stream",
     "text": [
      "돈을 받고 계란을 준다.\n",
      "남은 계란은 4개입니다.\n",
      "돈을 받고 계란을 준다.\n",
      "남은 계란은 3개입니다.\n",
      "돈을 받고 계란을 준다.\n",
      "남은 계란은 2개입니다.\n",
      "돈을 받고 계란을 준다.\n",
      "남은 계란은 1개입니다.\n",
      "돈을 받고 계란을 준다.\n",
      "남은 계란은 0개입니다.\n",
      "계란이 없습니다.\n"
     ]
    }
   ],
   "source": [
    "egg = 5\n",
    "money = 500\n",
    "while money:\n",
    "  print(\"돈을 받고 계란을 준다.\")\n",
    "  egg = egg -1\n",
    "  print(\"남은 계란은 %d개입니다.\" % egg)\n",
    "  if egg == 0:\n",
    "    print(\"계란이 없습니다.\")\n",
    "    break"
   ]
  },
  {
   "cell_type": "markdown",
   "metadata": {
    "id": "INLRNhF2etvh"
   },
   "source": [
    "## **continue**"
   ]
  },
  {
   "cell_type": "code",
   "execution_count": 105,
   "metadata": {
    "id": "RXE5qiOYdUUd"
   },
   "outputs": [
    {
     "name": "stdout",
     "output_type": "stream",
     "text": [
      "1\n",
      "3\n",
      "5\n",
      "7\n",
      "9\n"
     ]
    }
   ],
   "source": [
    "a = 0\n",
    "while a < 10:\n",
    "  a = a + 1\n",
    "  if a % 2 == 0:\n",
    "    continue\n",
    "  print(a)"
   ]
  },
  {
   "cell_type": "markdown",
   "metadata": {
    "id": "zeXxo8WZe7DK"
   },
   "source": [
    "## **for문이란?**\n",
    "\n",
    "for 변수 in 범위 또는 배열의 변수(리스트, 튜플, 문자열):\n",
    "\n",
    "      수행할 문장1\n",
    "\n",
    "      수행할 문장2\n",
    "\n",
    "      ..."
   ]
  },
  {
   "cell_type": "code",
   "execution_count": 106,
   "metadata": {
    "id": "172QuAFvdURA"
   },
   "outputs": [
    {
     "name": "stdout",
     "output_type": "stream",
     "text": [
      "one\n",
      "two\n",
      "three\n"
     ]
    }
   ],
   "source": [
    "test_list = ['one', 'two', 'three']\n",
    "for i in test_list:\n",
    "  print(i)"
   ]
  },
  {
   "cell_type": "code",
   "execution_count": 107,
   "metadata": {
    "id": "T04hZz1IdUJz"
   },
   "outputs": [
    {
     "name": "stdout",
     "output_type": "stream",
     "text": [
      "3\n",
      "7\n",
      "11\n"
     ]
    }
   ],
   "source": [
    "a = [(1,2), (3,4), (5,6)]\n",
    "for (first, last) in a:\n",
    "  print(first + last)"
   ]
  },
  {
   "cell_type": "code",
   "execution_count": 108,
   "metadata": {
    "id": "ELLGWMa5dUF_"
   },
   "outputs": [
    {
     "name": "stdout",
     "output_type": "stream",
     "text": [
      "0번째 데이터는 35입니다.\n",
      "1번째 데이터는 20입니다.\n",
      "2번째 데이터는 56입니다.\n",
      "3번째 데이터는 76입니다.\n",
      "4번째 데이터는 65입니다.\n"
     ]
    }
   ],
   "source": [
    "array = [35, 20, 56, 76, 65]\n",
    "for i in range(len(array)):\n",
    "  print(\"{}번째 데이터는 {}입니다.\".format(i, array[i]))"
   ]
  },
  {
   "cell_type": "code",
   "execution_count": 109,
   "metadata": {
    "id": "znnXExmidUCi"
   },
   "outputs": [
    {
     "name": "stdout",
     "output_type": "stream",
     "text": [
      "1번은 합격입니다.\n",
      "2번은 불합격입니다.\n",
      "3번은 합격입니다.\n",
      "4번은 불합격입니다.\n",
      "5번은 합격입니다.\n"
     ]
    }
   ],
   "source": [
    "avers = [80, 20, 65, 50, 90]\n",
    "num = 0\n",
    "for aver in avers:\n",
    "  num = num +1\n",
    "  if aver >= 60:\n",
    "    print(\"%d번은 합격입니다.\" % num)\n",
    "  else:\n",
    "   print(\"%d번은 불합격입니다.\" % num)"
   ]
  },
  {
   "cell_type": "markdown",
   "metadata": {
    "id": "6oAqxwtRgYV_"
   },
   "source": [
    "## **예제**"
   ]
  },
  {
   "cell_type": "code",
   "execution_count": 110,
   "metadata": {
    "id": "Zb2NjzBEdT_R"
   },
   "outputs": [
    {
     "name": "stdout",
     "output_type": "stream",
     "text": [
      "정수를 입력하시오 : 34\n",
      "34 x 1 = 34\n",
      "34 x 2 = 68\n",
      "34 x 3 = 102\n",
      "34 x 4 = 136\n",
      "34 x 5 = 170\n",
      "34 x 6 = 204\n",
      "34 x 7 = 238\n",
      "34 x 8 = 272\n",
      "34 x 9 = 306\n"
     ]
    }
   ],
   "source": [
    "# while문\n",
    "number=int(input(\"정수를 입력하시오 : \"))\n",
    "i=1\n",
    "\n",
    "while i<10:\n",
    "  print(\"%d x %d = %d\" %(number, i, number*i))\n",
    "  i=i+1"
   ]
  },
  {
   "cell_type": "code",
   "execution_count": 111,
   "metadata": {
    "id": "YGgxTmuSdT8I"
   },
   "outputs": [
    {
     "name": "stdout",
     "output_type": "stream",
     "text": [
      "정수를 입력하시오 : 3\n",
      "3 x 1 = 3\n",
      "3 x 2 = 6\n",
      "3 x 3 = 9\n",
      "3 x 4 = 12\n",
      "3 x 5 = 15\n",
      "3 x 6 = 18\n",
      "3 x 7 = 21\n",
      "3 x 8 = 24\n",
      "3 x 9 = 27\n"
     ]
    }
   ],
   "source": [
    "# for문\n",
    "num=int(input(\"정수를 입력하시오 : \"))\n",
    "for i in range(1,10):\n",
    "  print(\"%d x %d = %d\" %(num,i,num*i))"
   ]
  },
  {
   "cell_type": "markdown",
   "metadata": {
    "id": "5ql8lA-nhQ-K"
   },
   "source": [
    "## **함수**\n",
    "\n",
    "\n",
    " 입력 X 값에 대한 결과 Y 값을 반환(Return)하는 기능을 하나의 묶음으로 선언"
   ]
  },
  {
   "cell_type": "code",
   "execution_count": 112,
   "metadata": {
    "id": "V_ArfdqThAln"
   },
   "outputs": [],
   "source": [
    "def add(a, b) :\n",
    "  result = a + b\n",
    "  return result"
   ]
  },
  {
   "cell_type": "code",
   "execution_count": 113,
   "metadata": {
    "id": "OXpGzEXPhAYV"
   },
   "outputs": [
    {
     "name": "stdout",
     "output_type": "stream",
     "text": [
      "7\n"
     ]
    }
   ],
   "source": [
    "a = add(3,4)\n",
    "print(a)"
   ]
  },
  {
   "cell_type": "code",
   "execution_count": 114,
   "metadata": {
    "id": "Q2sZm9jgdT5d"
   },
   "outputs": [],
   "source": [
    "def say():\n",
    "  return \"Hi\""
   ]
  },
  {
   "cell_type": "code",
   "execution_count": 115,
   "metadata": {
    "colab": {
     "base_uri": "https://localhost:8080/"
    },
    "id": "GlKfX8YHSVbg",
    "outputId": "585df051-bcbe-4faa-98af-0150ece525da"
   },
   "outputs": [
    {
     "name": "stdout",
     "output_type": "stream",
     "text": [
      "Hi\n"
     ]
    }
   ],
   "source": [
    "a=say()\n",
    "print(a)"
   ]
  },
  {
   "cell_type": "code",
   "execution_count": 116,
   "metadata": {
    "id": "BOOKOghMHNtH"
   },
   "outputs": [],
   "source": [
    "def add(a,b):\n",
    "  print(\"%d, %d의 합은 %d입니다.\" %(a,b,a+b))"
   ]
  },
  {
   "cell_type": "code",
   "execution_count": 117,
   "metadata": {
    "id": "U3mVRDtlhxSu"
   },
   "outputs": [
    {
     "name": "stdout",
     "output_type": "stream",
     "text": [
      "3, 4의 합은 7입니다.\n"
     ]
    }
   ],
   "source": [
    "add(3,4)  # 결과값이 없는 함수는 호출해도 돌려주는 값이 없으며 출력만 해 줌\n"
   ]
  },
  {
   "cell_type": "code",
   "execution_count": 118,
   "metadata": {
    "id": "gNNtIhARhw7i"
   },
   "outputs": [
    {
     "name": "stdout",
     "output_type": "stream",
     "text": [
      "3, 4의 합은 7입니다.\n",
      "None\n"
     ]
    }
   ],
   "source": [
    "a= add(3,4) # 하지만 a변수의 값을 출력해보면 None 출력\n",
    "print(a)    # 결과값이 없다’는 것은 변수가 지정이 되지 않는다는 의미\n"
   ]
  },
  {
   "cell_type": "code",
   "execution_count": 119,
   "metadata": {
    "id": "o-DSNxZ_hw4Y"
   },
   "outputs": [],
   "source": [
    "def say() :\n",
    "  print('Hi')"
   ]
  },
  {
   "cell_type": "code",
   "execution_count": 120,
   "metadata": {
    "id": "KBjjWfZlhw05"
   },
   "outputs": [
    {
     "name": "stdout",
     "output_type": "stream",
     "text": [
      "Hi\n"
     ]
    }
   ],
   "source": [
    "say() # 입력 인수를 받는 매개변수도 없고 return문도 없어 결과값도 없는 함수"
   ]
  },
  {
   "cell_type": "code",
   "execution_count": 121,
   "metadata": {
    "id": "fZBtg1WeitEF"
   },
   "outputs": [
    {
     "data": {
      "text/plain": [
       "(2, 1)"
      ]
     },
     "execution_count": 121,
     "metadata": {},
     "output_type": "execute_result"
    }
   ],
   "source": [
    "def swap(x, y) :\n",
    "  return y, x\n",
    "swap(1, 2)"
   ]
  },
  {
   "cell_type": "code",
   "execution_count": 122,
   "metadata": {
    "id": "-s7unWNRis8o"
   },
   "outputs": [],
   "source": [
    "def setValue(newValue):\n",
    "  x=newValue\n",
    "  \n",
    "retval = setValue(10)"
   ]
  },
  {
   "cell_type": "code",
   "execution_count": 123,
   "metadata": {
    "id": "E2OjZDNGisx8"
   },
   "outputs": [
    {
     "name": "stdout",
     "output_type": "stream",
     "text": [
      "None\n"
     ]
    }
   ],
   "source": [
    "print(retval)"
   ]
  },
  {
   "cell_type": "code",
   "execution_count": 124,
   "metadata": {
    "id": "DbnoAhJNistn"
   },
   "outputs": [],
   "source": [
    "def printUser(name, age = 18) :\n",
    "    print(\"이름 : \" + name)\n",
    "    print(\"나이 : \" + str(age))\n",
    "    return"
   ]
  },
  {
   "cell_type": "code",
   "execution_count": 125,
   "metadata": {
    "id": "sJ_94xr4jUGQ"
   },
   "outputs": [
    {
     "name": "stdout",
     "output_type": "stream",
     "text": [
      "이름 : 홍길동\n",
      "나이 : 55\n"
     ]
    }
   ],
   "source": [
    "printUser(\"홍길동\",55) # name, age인수가 입력되면 그대로 출력"
   ]
  },
  {
   "cell_type": "code",
   "execution_count": 126,
   "metadata": {
    "id": "k3vUXCH2jZuo"
   },
   "outputs": [
    {
     "name": "stdout",
     "output_type": "stream",
     "text": [
      "이름 : 홍길동\n",
      "나이 : 18\n"
     ]
    }
   ],
   "source": [
    "printUser(\"홍길동\")"
   ]
  },
  {
   "cell_type": "code",
   "execution_count": 127,
   "metadata": {
    "id": "_jjBlVeyjZpV"
   },
   "outputs": [
    {
     "ename": "SyntaxError",
     "evalue": "non-default argument follows default argument (<ipython-input-127-6ac40c526f52>, line 1)",
     "output_type": "error",
     "traceback": [
      "\u001b[0;36m  File \u001b[0;32m\"<ipython-input-127-6ac40c526f52>\"\u001b[0;36m, line \u001b[0;32m1\u001b[0m\n\u001b[0;31m    def printUser(age = 18, name): # 디폴트 매개변수 다음에 일반 매개변수가 오면 오류 발생\u001b[0m\n\u001b[0m                 ^\u001b[0m\n\u001b[0;31mSyntaxError\u001b[0m\u001b[0;31m:\u001b[0m non-default argument follows default argument\n"
     ]
    }
   ],
   "source": [
    "def printUser(age = 18, name): # 디폴트 매개변수 다음에 일반 매개변수가 오면 오류 발생\n",
    "    print(\"이름 : \" + name)\n",
    "    print(\"나이 : \" + str(age))\n",
    "    return"
   ]
  },
  {
   "cell_type": "markdown",
   "metadata": {
    "id": "JXQu6Y-2kEzw"
   },
   "source": [
    "## **가변개수 매개변수(여러 개의 입력값을 받는 함수 만들기)**"
   ]
  },
  {
   "cell_type": "code",
   "execution_count": null,
   "metadata": {
    "id": "ysDrnkzbjZlW"
   },
   "outputs": [],
   "source": [
    "def sum_many(*args): \n",
    "  sum = 0\n",
    "  for i in args: # args에 입력받은 모든 값을 더한다\n",
    "      sum = sum + i\n",
    "  return sum"
   ]
  },
  {
   "cell_type": "code",
   "execution_count": null,
   "metadata": {
    "id": "TOEtdb7BjZiG"
   },
   "outputs": [],
   "source": [
    "result = sum_many(1,2,3)\n",
    "print(result)"
   ]
  },
  {
   "cell_type": "code",
   "execution_count": null,
   "metadata": {
    "id": "nOAccxjhjZe7"
   },
   "outputs": [],
   "source": [
    "result=sum_many(1,2,3,4,5,6,7,8,9,10)\n",
    "print(result)"
   ]
  },
  {
   "cell_type": "code",
   "execution_count": null,
   "metadata": {
    "id": "ioNMS7Knktw4"
   },
   "outputs": [],
   "source": [
    "# 익명 함수\n",
    "add2 = lambda v1, v2 : v1 + v2\n",
    "sum = add2(4, 5)\n",
    "print(sum)"
   ]
  },
  {
   "cell_type": "markdown",
   "metadata": {
    "id": "cgGjuwlAk06r"
   },
   "source": [
    "## 예제"
   ]
  },
  {
   "cell_type": "code",
   "execution_count": null,
   "metadata": {
    "id": "7IIZ2Ue1k1uh"
   },
   "outputs": [],
   "source": [
    "def FtoC(temp_f):\n",
    "  temp_c = (5 * (temp_f - 32)) / 9\n",
    "  return temp_c"
   ]
  },
  {
   "cell_type": "code",
   "execution_count": null,
   "metadata": {
    "id": "m46cwV-tk74Z"
   },
   "outputs": [],
   "source": [
    "temp_f = float(input(\"화씨온도를 입력하시오: \"))\n",
    "print(FtoC(temp_f))"
   ]
  },
  {
   "cell_type": "markdown",
   "metadata": {
    "id": "SLPjruZylU4m"
   },
   "source": [
    "## **모듈 내의 함수 불러 오기**"
   ]
  },
  {
   "cell_type": "code",
   "execution_count": null,
   "metadata": {
    "id": "_eaEuC3ZlF7f"
   },
   "outputs": [],
   "source": [
    "from math import factorial\n",
    "n=factorial(5)\n",
    "n"
   ]
  },
  {
   "cell_type": "code",
   "execution_count": null,
   "metadata": {
    "id": "Kb-Pcr_7lF0b"
   },
   "outputs": [],
   "source": [
    "from math import (factorial,acos)\n",
    "n=factorial(3)+acos(1)\n",
    "n"
   ]
  },
  {
   "cell_type": "code",
   "execution_count": null,
   "metadata": {
    "id": "fCqCN-IFlFr3"
   },
   "outputs": [],
   "source": [
    "from math import *\n",
    "n=sqrt(5)+abs(-12.5)\n",
    "n"
   ]
  },
  {
   "cell_type": "code",
   "execution_count": null,
   "metadata": {
    "id": "1dM74TbqlFmb"
   },
   "outputs": [],
   "source": [
    "from math import factorial as f\n",
    "n=f(5)/f(3)\n",
    "n"
   ]
  },
  {
   "cell_type": "markdown",
   "metadata": {},
   "source": [
    "#### "
   ]
  }
 ],
 "metadata": {
  "colab": {
   "include_colab_link": true,
   "name": "Untitled1.ipynb",
   "provenance": []
  },
  "kernelspec": {
   "display_name": "Python 3",
   "language": "python",
   "name": "python3"
  },
  "language_info": {
   "codemirror_mode": {
    "name": "ipython",
    "version": 3
   },
   "file_extension": ".py",
   "mimetype": "text/x-python",
   "name": "python",
   "nbconvert_exporter": "python",
   "pygments_lexer": "ipython3",
   "version": "3.7.10"
  }
 },
 "nbformat": 4,
 "nbformat_minor": 1
}
